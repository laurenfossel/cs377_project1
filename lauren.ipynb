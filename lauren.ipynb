{
 "cells": [
  {
   "cell_type": "code",
   "execution_count": 3,
   "metadata": {},
   "outputs": [
    {
     "name": "stdout",
     "output_type": "stream",
     "text": [
      "Index(['Id', 'ProductId', 'UserId', 'ProfileName', 'HelpfulnessNumerator',\n",
      "       'HelpfulnessDenominator', 'Score', 'Time', 'Summary', 'Text'],\n",
      "      dtype='object')\n"
     ]
    },
    {
     "data": {
      "text/plain": [
       "256059"
      ]
     },
     "execution_count": 3,
     "metadata": {},
     "output_type": "execute_result"
    }
   ],
   "source": [
    "import pandas as pd # import pandas library\n",
    "import time\n",
    "\n",
    "df = pd.read_csv('Reviews.csv', low_memory=False)# read the csv file into a pandas dataframe object\n",
    "print(df.columns)\n",
    "#len(pd.unique(df[\"UserId\"].values.ravel()))\n",
    "\n",
    "userDict = {}\n",
    "\n",
    "for index, row in df.iterrows():\n",
    "    if row[\"UserId\"] in userDict:\n",
    "        userDict[row[\"UserId\"]].append(row)\n",
    "    else:\n",
    "        userDict[row[\"UserId\"]] = [row]\n",
    "        \n",
    "len(userDict)\n",
    "\n",
    "# hello there\n",
    "#hi hi\n",
    "\n",
    "\n",
    "\n",
    "\n"
   ]
  },
  {
   "cell_type": "code",
   "execution_count": 4,
   "metadata": {},
   "outputs": [
    {
     "name": "stdout",
     "output_type": "stream",
     "text": [
      "{1: 175391, 3: 13828, 2: 32658, 4: 10589, 12: 866, 20: 188, 201: 1, 49: 12, 17: 286, 6: 4137, 10: 1231, 88: 1, 133: 2, 14: 627, 9: 1805, 5: 5417, 21: 125, 13: 571, 16: 309, 8: 1953, 18: 225, 11: 991, 7: 2691, 389: 1, 15: 412, 75: 6, 256: 1, 27: 79, 47: 14, 33: 31, 23: 124, 22: 117, 140: 1, 59: 7, 99: 1, 42: 16, 29: 61, 68: 6, 48: 15, 44: 20, 25: 187, 38: 16, 19: 181, 28: 78, 448: 1, 96: 2, 114: 2, 123: 1, 107: 2, 32: 36, 111: 1, 61: 5, 43: 26, 36: 29, 105: 3, 39: 20, 41: 16, 60: 6, 30: 40, 178: 1, 162: 2, 34: 33, 72: 4, 37: 33, 40: 19, 94: 3, 110: 2, 26: 95, 73: 3, 125: 2, 92: 2, 82: 3, 176: 1, 98: 3, 83: 2, 155: 1, 31: 47, 63: 9, 35: 28, 52: 11, 151: 1, 24: 94, 104: 3, 118: 1, 87: 2, 65: 5, 69: 4, 51: 13, 67: 2, 149: 1, 117: 1, 45: 13, 54: 9, 77: 3, 46: 12, 421: 1, 66: 4, 55: 9, 365: 1, 79: 2, 167: 1, 143: 2, 56: 6, 57: 13, 71: 4, 134: 1, 89: 2, 172: 1, 85: 2, 199: 1, 106: 1, 141: 1, 121: 1, 78: 3, 74: 2, 80: 2, 113: 3, 142: 1, 157: 1, 50: 7, 161: 1, 204: 1, 150: 2, 58: 7, 119: 1, 70: 3, 126: 1, 62: 4, 95: 2, 127: 1, 64: 3, 120: 1, 135: 1, 175: 1, 84: 2, 115: 1, 53: 11, 109: 1, 90: 1, 154: 1, 116: 1, 124: 1, 76: 2, 86: 1}\n",
      "True\n"
     ]
    }
   ],
   "source": [
    "#make a histogram dictionary of number of reviews by user\n",
    "histogramDict = {}\n",
    "for user in userDict:\n",
    "    userCount = len(userDict[user])\n",
    "    if userCount in histogramDict:\n",
    "        histogramDict[userCount] += 1\n",
    "    else:\n",
    "        histogramDict[userCount] = 1\n",
    "print(histogramDict)\n",
    "\n",
    "#test that the number of reviews matches the number present in the data file\n",
    "result = 0\n",
    "for entry in histogramDict:\n",
    "    result += entry * histogramDict[entry]\n",
    "print (result == len(df.index))"
   ]
  },
  {
   "cell_type": "code",
   "execution_count": 28,
   "metadata": {},
   "outputs": [
    {
     "data": {
      "text/plain": [
       "2008"
      ]
     },
     "execution_count": 28,
     "metadata": {},
     "output_type": "execute_result"
    }
   ],
   "source": [
    "#how should we get time? I'm a little confused how the data is formatted. I'm gonna check Kaggle.\n",
    "timestamp = 1219017600\n",
    "datetime.fromtimestamp(timestamp).year"
   ]
  },
  {
   "cell_type": "code",
   "execution_count": 17,
   "metadata": {},
   "outputs": [
    {
     "ename": "AttributeError",
     "evalue": "'DataFrame' object has no attribute 'date'",
     "output_type": "error",
     "traceback": [
      "\u001b[0;31m---------------------------------------------------------------------------\u001b[0m",
      "\u001b[0;31mAttributeError\u001b[0m                            Traceback (most recent call last)",
      "\u001b[0;32m<ipython-input-17-14b45f1f930f>\u001b[0m in \u001b[0;36m<module>\u001b[0;34m\u001b[0m\n\u001b[1;32m      3\u001b[0m \u001b[0;31m#convert dates\u001b[0m\u001b[0;34m\u001b[0m\u001b[0;34m\u001b[0m\u001b[0;34m\u001b[0m\u001b[0m\n\u001b[1;32m      4\u001b[0m \u001b[0;34m\u001b[0m\u001b[0m\n\u001b[0;32m----> 5\u001b[0;31m \u001b[0mdf\u001b[0m\u001b[0;34m.\u001b[0m\u001b[0mtime\u001b[0m \u001b[0;34m=\u001b[0m \u001b[0mdf\u001b[0m\u001b[0;34m.\u001b[0m\u001b[0mdate\u001b[0m\u001b[0;34m.\u001b[0m\u001b[0mapply\u001b[0m\u001b[0;34m(\u001b[0m\u001b[0;32mlambda\u001b[0m \u001b[0md\u001b[0m\u001b[0;34m:\u001b[0m \u001b[0mdatetime\u001b[0m\u001b[0;34m.\u001b[0m\u001b[0mstrptime\u001b[0m\u001b[0;34m(\u001b[0m\u001b[0md\u001b[0m\u001b[0;34m,\u001b[0m \u001b[0;34m\"%Y-%m-%d\"\u001b[0m\u001b[0;34m)\u001b[0m\u001b[0;34m)\u001b[0m\u001b[0;34m\u001b[0m\u001b[0;34m\u001b[0m\u001b[0m\n\u001b[0m",
      "\u001b[0;32m~/anaconda3/lib/python3.8/site-packages/pandas/core/generic.py\u001b[0m in \u001b[0;36m__getattr__\u001b[0;34m(self, name)\u001b[0m\n\u001b[1;32m   5272\u001b[0m             \u001b[0;32mif\u001b[0m \u001b[0mself\u001b[0m\u001b[0;34m.\u001b[0m\u001b[0m_info_axis\u001b[0m\u001b[0;34m.\u001b[0m\u001b[0m_can_hold_identifiers_and_holds_name\u001b[0m\u001b[0;34m(\u001b[0m\u001b[0mname\u001b[0m\u001b[0;34m)\u001b[0m\u001b[0;34m:\u001b[0m\u001b[0;34m\u001b[0m\u001b[0;34m\u001b[0m\u001b[0m\n\u001b[1;32m   5273\u001b[0m                 \u001b[0;32mreturn\u001b[0m \u001b[0mself\u001b[0m\u001b[0;34m[\u001b[0m\u001b[0mname\u001b[0m\u001b[0;34m]\u001b[0m\u001b[0;34m\u001b[0m\u001b[0;34m\u001b[0m\u001b[0m\n\u001b[0;32m-> 5274\u001b[0;31m             \u001b[0;32mreturn\u001b[0m \u001b[0mobject\u001b[0m\u001b[0;34m.\u001b[0m\u001b[0m__getattribute__\u001b[0m\u001b[0;34m(\u001b[0m\u001b[0mself\u001b[0m\u001b[0;34m,\u001b[0m \u001b[0mname\u001b[0m\u001b[0;34m)\u001b[0m\u001b[0;34m\u001b[0m\u001b[0;34m\u001b[0m\u001b[0m\n\u001b[0m\u001b[1;32m   5275\u001b[0m \u001b[0;34m\u001b[0m\u001b[0m\n\u001b[1;32m   5276\u001b[0m     \u001b[0;32mdef\u001b[0m \u001b[0m__setattr__\u001b[0m\u001b[0;34m(\u001b[0m\u001b[0mself\u001b[0m\u001b[0;34m,\u001b[0m \u001b[0mname\u001b[0m\u001b[0;34m:\u001b[0m \u001b[0mstr\u001b[0m\u001b[0;34m,\u001b[0m \u001b[0mvalue\u001b[0m\u001b[0;34m)\u001b[0m \u001b[0;34m->\u001b[0m \u001b[0;32mNone\u001b[0m\u001b[0;34m:\u001b[0m\u001b[0;34m\u001b[0m\u001b[0;34m\u001b[0m\u001b[0m\n",
      "\u001b[0;31mAttributeError\u001b[0m: 'DataFrame' object has no attribute 'date'"
     ]
    }
   ],
   "source": [
    "import json\n",
    "from datetime import datetime\n",
    "#convert dates \n",
    "\n",
    "df.time = df.date.apply(lambda d: datetime.strptime(d, \"%Y-%m-%d\"))"
   ]
  },
  {
   "cell_type": "code",
   "execution_count": null,
   "metadata": {},
   "outputs": [],
   "source": []
  }
 ],
 "metadata": {
  "kernelspec": {
   "display_name": "Python 3",
   "language": "python",
   "name": "python3"
  },
  "language_info": {
   "codemirror_mode": {
    "name": "ipython",
    "version": 3
   },
   "file_extension": ".py",
   "mimetype": "text/x-python",
   "name": "python",
   "nbconvert_exporter": "python",
   "pygments_lexer": "ipython3",
   "version": "3.8.3"
  }
 },
 "nbformat": 4,
 "nbformat_minor": 4
}
