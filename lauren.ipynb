{
 "cells": [
  {
   "cell_type": "code",
   "execution_count": 17,
   "metadata": {},
   "outputs": [
    {
     "name": "stdout",
     "output_type": "stream",
     "text": [
      "Index(['Id', 'ProductId', 'UserId', 'ProfileName', 'HelpfulnessNumerator',\n",
      "       'HelpfulnessDenominator', 'Score', 'Time', 'Summary', 'Text'],\n",
      "      dtype='object')\n"
     ]
    },
    {
     "data": {
      "text/plain": [
       "256060"
      ]
     },
     "execution_count": 17,
     "metadata": {},
     "output_type": "execute_result"
    }
   ],
   "source": [
    "import pandas as pd # import pandas library\n",
    "\n",
    "df = pd.read_csv('Reviews.csv', low_memory=False)# read the csv file into a pandas dataframe object\n",
    "print(df.columns)\n",
    "#len(pd.unique(df[\"UserId\"].values.ravel()))\n",
    "\n",
    "#userDict = {}\n",
    "\n",
    "for index, row in df.iterrows():\n",
    "    if row[\"UserId\"] in userDict:\n",
    "        userDict[row[\"UserId\"]].append(row)\n",
    "    else:\n",
    "        userDict[row[\"UserId\"]] = [row]\n",
    "        \n",
    "len(userDict)\n",
    "\n",
    "# hello there\n",
    "#hi hi\n",
    "\n",
    "\n",
    "\n",
    "\n"
   ]
  },
  {
   "cell_type": "code",
   "execution_count": null,
   "metadata": {},
   "outputs": [],
   "source": [
    "print (\"owen test\")"
   ]
  }
 ],
 "metadata": {
  "kernelspec": {
   "display_name": "Python 3",
   "language": "python",
   "name": "python3"
  },
  "language_info": {
   "codemirror_mode": {
    "name": "ipython",
    "version": 3
   },
   "file_extension": ".py",
   "mimetype": "text/x-python",
   "name": "python",
   "nbconvert_exporter": "python",
   "pygments_lexer": "ipython3",
   "version": "3.8.3"
  }
 },
 "nbformat": 4,
 "nbformat_minor": 4
}
