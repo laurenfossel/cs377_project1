{
 "cells": [
  {
   "cell_type": "code",
   "execution_count": 1,
   "metadata": {},
   "outputs": [
    {
     "name": "stdout",
     "output_type": "stream",
     "text": [
      "Index(['Id', 'ProductId', 'UserId', 'ProfileName', 'HelpfulnessNumerator',\n",
      "       'HelpfulnessDenominator', 'Score', 'Time', 'Summary', 'Text'],\n",
      "      dtype='object')\n"
     ]
    },
    {
     "data": {
      "text/plain": [
       "256059"
      ]
     },
     "execution_count": 1,
     "metadata": {},
     "output_type": "execute_result"
    }
   ],
   "source": [
    "#Make userDict\n",
    "import pandas as pd # import pandas library\n",
    "import time\n",
    "import plotly.express as px\n",
    "\n",
    "df = pd.read_csv('Reviews.csv', low_memory=False)# read the csv file into a pandas dataframe object\n",
    "print(df.columns)\n",
    "#len(pd.unique(df[\"UserId\"].values.ravel()))\n",
    "\n",
    "userDict = {}\n",
    "\n",
    "for index, row in df.iterrows():\n",
    "    if row[\"UserId\"] in userDict:\n",
    "        userDict[row[\"UserId\"]].append(row)\n",
    "    else:\n",
    "        userDict[row[\"UserId\"]] = [row]\n",
    "        \n",
    "len(userDict)\n"
   ]
  },
  {
   "cell_type": "code",
   "execution_count": 2,
   "metadata": {},
   "outputs": [
    {
     "name": "stdout",
     "output_type": "stream",
     "text": [
      "5453 5453\n",
      "568455\n"
     ]
    }
   ],
   "source": [
    "#10-05: Make simplifiedReviews file\n",
    "import csv\n",
    "result = open('simplifiedReviews.csv', 'w')\n",
    "count = 0 #Count variable bypasses the first line of the file, which just contains the headers.\n",
    "resultLength = 0\n",
    "with open('Reviews.csv') as totalFile:\n",
    "    lines = totalFile.readlines()\n",
    "    wr = csv.writer(result)\n",
    "    for review in lines:\n",
    "        if count != 0 :\n",
    "            review = review.split(',')\n",
    "            user = review[2]\n",
    "            #print(user)\n",
    "            #print(count)\n",
    "            if len(userDict[user]) >= 60 and len(userDict[user]) < 80: #whatever this actually is for you :)\n",
    "                wr.writerow(review) \n",
    "                resultLength +=1\n",
    "        count+=1\n",
    "\n",
    "totalFile.close()\n",
    "result.close()\n",
    "\n",
    "file = open(\"simplifiedReviews.csv\")\n",
    "lines= len(list(csv.reader(file)))\n",
    "file.close()\n",
    "print(lines, resultLength) # checks that the number of lines that should be added = number of lines in the csv\n",
    "print(count) #make sure it read all 568455 reviews"
   ]
  },
  {
   "cell_type": "code",
   "execution_count": 3,
   "metadata": {},
   "outputs": [
    {
     "name": "stdout",
     "output_type": "stream",
     "text": [
      "done\n",
      "4803\n"
     ]
    }
   ],
   "source": [
    "#10-05: Make simplified mainDict\n",
    "from datetime import datetime\n",
    "from collections import defaultdict\n",
    "from operator import itemgetter\n",
    "\n",
    "mainDictionary = defaultdict(lambda: defaultdict(list))\n",
    "\n",
    "freqDict = defaultdict(lambda: defaultdict(int))\n",
    "\n",
    "with open('simplifiedReviews.csv') as reviewFile:\n",
    "    reviews = reviewFile.readlines()\n",
    "    for r in reviews:\n",
    "        if reviews[0] == r:\n",
    "            continue\n",
    "        r = r.split(',')\n",
    "        if len(r) > 1:\n",
    "            userId = r[2]\n",
    "            productId = r[1]\n",
    "            hNum = r[4]\n",
    "            hDen = r[5]\n",
    "            score = r[6]\n",
    "            time = r[7]\n",
    "            length = len(r[8])\n",
    "               \n",
    "            isFound = False\n",
    "            betterDate = datetime.utcfromtimestamp(float(time))\n",
    "            try:\n",
    "                infoList = [int(hNum), int(hDen), int(score), productId]\n",
    "                \n",
    "                for date in mainDictionary[userId].values():\n",
    "                    for review in date:\n",
    "                        if review[3] == productId:\n",
    "                            isFound = True\n",
    "                            break\n",
    "                if not isFound:\n",
    "                    mainDictionary[userId][(betterDate.month, betterDate.year)].append(infoList) #instead of append, Molly had ... betterDate.year)] = infoList, but I don't think that's right (??)\n",
    "                    freqDict[userId][(betterDate.month, betterDate.year)] += 1\n",
    "\n",
    "            except ValueError:\n",
    "                continue\n",
    "                \n",
    "for user in mainDictionary.keys() :\n",
    "    for d in mainDictionary[user].keys() :\n",
    "        mainDictionary[user][d] = sorted(mainDictionary[user][d], key = itemgetter(0), reverse=True)\n",
    " \n",
    "        \n",
    "print(\"done\")\n",
    "#print(mainDictionary)\n",
    "\n",
    "#this calculates the number of reviews in mainDictionary\n",
    "numberOfReviews = 0\n",
    "for user in mainDictionary.keys():\n",
    "    for date in mainDictionary[user].values():\n",
    "        numberOfReviews += len(date)\n",
    "print(numberOfReviews)\n",
    "\n",
    "\n"
   ]
  },
  {
   "cell_type": "code",
   "execution_count": null,
   "metadata": {},
   "outputs": [],
   "source": [
    "#10-05: Make user graph\n",
    "import plotly.express as px\n",
    "timeList = []\n",
    "ylist = []\n",
    "for item in freqDict['A2G7B7FKP2O2PU'].keys():\n",
    "    timeList.append(item[0] + 12*(item[1]-2008))\n",
    "    ylist.append(freqDict['A2G7B7FKP2O2PU'][item])\n",
    "print(timeList)\n",
    "print(ylist)\n",
    "\n",
    "fig = px.scatter(x=timeList, y=ylist)\n",
    "\n",
    "fig.update_layout(\n",
    "    xaxis_title = \"Month\",\n",
    "    yaxis_title = \"Number of Reviews\"\n",
    ")\n",
    "fig.show()\n",
    "print(\"done\")\n",
    "#print(mainDictionary[next(iter(mainDictionary))])\n",
    "print(dict(freqDict))"
   ]
  },
  {
   "cell_type": "code",
   "execution_count": 4,
   "metadata": {
    "scrolled": true
   },
   "outputs": [
    {
     "name": "stdout",
     "output_type": "stream",
     "text": [
      "76.0\n",
      "62.0\n",
      "Before: 3.672598369372563\n",
      "During: 6.580645161290323\n",
      "Reaction: 4.467741935483871\n",
      "Long: 3.8148628738739094\n",
      "Percent change reaction: 0.2165070846685456\n",
      "Percent change long: 0.03873674444985698\n",
      "Percent change reaction to long: -0.1461317755228073\n"
     ]
    }
   ],
   "source": [
    "#Begin parcing through of user data to get averages for before, \n",
    "#peak month, 2 months after, extent after\n",
    "from __future__ import division\n",
    "\n",
    "import plotly.graph_objects as go\n",
    "\n",
    "test = []\n",
    "helpfulnessDict = {}\n",
    "reviewDataDict = {}\n",
    "\n",
    "for user in mainDictionary:\n",
    "    sitems = sorted(mainDictionary[user].items(), key= lambda x: x[1][0][0], reverse=True)\n",
    "    maxHelpfulness = sitems[0][1][0][0]\n",
    "    maxHelpfulnessDate = sitems[0][0]\n",
    "    helpfulnessDict[user] = [maxHelpfulness, maxHelpfulnessDate]\n",
    "    \n",
    "\n",
    "    \n",
    "for user in freqDict:\n",
    "    maxHelpfulness = helpfulnessDict[user][0]\n",
    "    date = helpfulnessDict[user][1][0] + helpfulnessDict[user][1][1]*12\n",
    "    reactionInterval = 2.0\n",
    "    \n",
    "    counterBefore = 0 #average monthly reviews before\n",
    "    counterReaction = 0 #average monthly reviews 2 months aftter\n",
    "    counterLongTerm = 0 #average monthly reviews from 2 months to rest of after\n",
    "    \n",
    "    reviewsBefore = 0\n",
    "    reviewsDuring = 0\n",
    "    reviewsReaction = 0\n",
    "    reviewsLongTerm = 0\n",
    "    \n",
    "    for item in freqDict[user]:\n",
    "        translatedDate = item[0] + item[1]*12\n",
    "        \n",
    "        if translatedDate < date and translatedDate: #>= date - reactionInterval:\n",
    "            counterBefore += 1\n",
    "            reviewsBefore += freqDict[user][item]\n",
    "            \n",
    "        elif translatedDate == date:\n",
    "            reviewsDuring = freqDict[user][item]\n",
    "            \n",
    "        elif translatedDate > date and translatedDate <= date + reactionInterval:\n",
    "            counterReaction += 1\n",
    "            reviewsReaction += freqDict[user][item]\n",
    "            \n",
    "        elif translatedDate > reactionInterval:\n",
    "            counterLongTerm += 1\n",
    "            reviewsLongTerm += freqDict[user][item]\n",
    "            \n",
    "    if counterBefore == 0:\n",
    "        avgBefore = 0.0\n",
    "        \n",
    "    else:\n",
    "        avgBefore = reviewsBefore/counterBefore\n",
    "        #avgBefore = reviewsBefore/reactionInterval\n",
    "        \n",
    "    if counterReaction == 0:\n",
    "        avgReaction = 0.0\n",
    "    else:\n",
    "        avgReaction = reviewsReaction/counterReaction\n",
    "        #avgReaction = reviewsReaction/reactionInterval\n",
    "    \n",
    "    if counterLongTerm == 0:\n",
    "        avgLongTerm = 0.0\n",
    "    else:\n",
    "        avgLongTerm = reviewsLongTerm/counterLongTerm\n",
    "    \n",
    "    reviewDataDict[user] = [avgBefore, reviewsDuring, avgReaction, avgLongTerm]\n",
    "\n",
    "    \n",
    "#gives a dictionary where each user maps to an array :\n",
    "#[average number of reviews per month BEFORE most helpful review, number of reviews \n",
    "#in the month with the most helpful review, number of reviews per month in the \n",
    "#deemed 'reaction' period, number of reviews per month after said reaction period]    \n",
    "\n",
    "#print(reviewDataDict)\n",
    "\n",
    "broadAvgBefore = 0.0\n",
    "broadReviewsDuring = 0.0\n",
    "broadAvgReaction = 0.0\n",
    "broadAvgLongTerm = 0.0\n",
    "broadChangeAvg = 0.0\n",
    "broadChangeLongAvg = 0.0\n",
    "\n",
    "numUsers = float(len(reviewDataDict.keys()))\n",
    "changeNumUsers = numUsers\n",
    "\n",
    "for user in reviewDataDict:\n",
    "    #print(reviewDataDict[user])\n",
    "    if reviewDataDict[user][0] > .000001 :\n",
    "        broadAvgBefore += reviewDataDict[user][0]\n",
    "        broadReviewsDuring += reviewDataDict[user][1]\n",
    "        broadAvgReaction += reviewDataDict[user][2]\n",
    "        broadAvgLongTerm += reviewDataDict[user][3]\n",
    "    #print(reviewDataDict[user])\n",
    "        #broadChangeAvg += (reviewDataDict[user][2] - reviewDataDict[user][0]) / reviewDataDict[user][0]\n",
    "        #broadChangeLongAvg += (reviewDataDict[user][3] - reviewDataDict[user][0]) / reviewDataDict[user][0]\n",
    "    else:\n",
    "        changeNumUsers -= 1\n",
    "print(numUsers)        \n",
    "print(changeNumUsers)    \n",
    "\n",
    "\n",
    "broadAvgBefore = broadAvgBefore/changeNumUsers\n",
    "broadReviewsDuring = broadReviewsDuring/changeNumUsers\n",
    "broadAvgReaction = broadAvgReaction/changeNumUsers\n",
    "broadAvgLongTerm = broadAvgLongTerm/changeNumUsers\n",
    "broadChangeAvg = broadChangeAvg/changeNumUsers\n",
    "broadChangeLongAvg = broadChangeLongAvg/changeNumUsers\n",
    "            \n",
    "print(\"Before: \" + str(broadAvgBefore))\n",
    "print(\"During: \" + str(broadReviewsDuring))\n",
    "print(\"Reaction: \" + str(broadAvgReaction))\n",
    "print(\"Long: \" + str(broadAvgLongTerm))\n",
    "print(\"Percent change reaction: \" + str((broadAvgReaction - broadAvgBefore)/broadAvgBefore))\n",
    "print(\"Percent change long: \" + str((broadAvgLongTerm - broadAvgBefore)/broadAvgBefore))\n",
    "print(\"Percent change reaction to long: \" + str((broadAvgLongTerm - broadAvgReaction)/broadAvgReaction))            \n",
    "#print(str(item) + \" \" + str(freqDict[user][item]))\n"
   ]
  },
  {
   "cell_type": "code",
   "execution_count": null,
   "metadata": {},
   "outputs": [],
   "source": [
    "#make a histogram dictionary of number of reviews by user\n",
    "\n",
    "histogramDict = {}\n",
    "for user in userDict:\n",
    "    userCount = len(userDict[user])\n",
    "    if userCount in histogramDict:\n",
    "        histogramDict[userCount] += 1\n",
    "    else:\n",
    "        histogramDict[userCount] = 1\n",
    "print(sorted(histogramDict.items()))\n",
    "fig = px.bar(x = list(histogramDict.keys()), y = list(histogramDict.values()))\n",
    "#fig.show()\n",
    "\n",
    "#test that the number of reviews matches the number present in the data file\n",
    "result = 0\n",
    "for entry in histogramDict:\n",
    "    result += entry * histogramDict[entry]\n",
    "print (result == len(df.index))\n",
    "print(max(histogramDict.keys()))"
   ]
  },
  {
   "cell_type": "code",
   "execution_count": null,
   "metadata": {},
   "outputs": [],
   "source": [
    "import plotly\n",
    "import plotly.express as px\n",
    "from collections import OrderedDict\n",
    "max = 0\n",
    "maxItem = []\n",
    "for item in userDict.values() :\n",
    "    if len(item) > max :\n",
    "        max = len(item)\n",
    "        maxItem = item\n",
    "timestamps = []\n",
    "helpfulness = []\n",
    "for review in maxItem :\n",
    "    timestamps.append(review[\"Time\"])\n",
    "    if review[\"HelpfulnessDenominator\"] == 0:\n",
    "        helpfulness.append(0)\n",
    "    else:\n",
    "        helpfulness.append(review[\"HelpfulnessNumerator\"])#/review[\"HelpfulnessDenominator\"])\n",
    "print(helpfulness)\n",
    "fig = px.scatter(x=timestamps, y=helpfulness)\n",
    "fig.show()\n",
    "\n",
    "#sorted_d = OrderedDict(sorted(userDict.items(), key=lambda x: x[1]))\n",
    "#print(sorted_d).head()\n",
    "\n",
    "#factor = 2592000\n",
    "#initialTime = maxItem[1][\"Time\"]\n",
    "#freqList = [0,0,0,0,0]\n",
    "#print(initialTime)\n",
    "    "
   ]
  },
  {
   "cell_type": "code",
   "execution_count": null,
   "metadata": {},
   "outputs": [],
   "source": [
    "import pandas as pd # import pandas library\n",
    "import time\n",
    "import plotly.express as px\n",
    "\n",
    "df = pd.read_csv('Reviews.csv', low_memory=False)\n",
    "print(df.columns)\n",
    "\n",
    "byUser = df.groupby(\"UserId\")\n"
   ]
  },
  {
   "cell_type": "code",
   "execution_count": null,
   "metadata": {},
   "outputs": [],
   "source": [
    "#LIZZIE'S MESS AROUND CODE FOLLOWS"
   ]
  },
  {
   "cell_type": "code",
   "execution_count": 6,
   "metadata": {},
   "outputs": [
    {
     "name": "stdout",
     "output_type": "stream",
     "text": [
      "Index(['Id', 'ProductId', 'UserId', 'ProfileName', 'HelpfulnessNumerator',\n",
      "       'HelpfulnessDenominator', 'Score', 'Time', 'Summary', 'Text'],\n",
      "      dtype='object')\n"
     ]
    }
   ],
   "source": [
    "import pandas as pd # import pandas library\n",
    "import time\n",
    "import plotly.express as px\n",
    "\n",
    "df = pd.read_csv('Reviews.csv', low_memory=False)# read the csv file into a pandas dataframe object\n",
    "print(df.columns)\n",
    "\n",
    "byUser = df.groupby(\"UserId\")"
   ]
  },
  {
   "cell_type": "code",
   "execution_count": null,
   "metadata": {},
   "outputs": [],
   "source": [
    "#print(byUser.get_group(\"A3OXHLG6DIBRW8\"))\n",
    "\n",
    "print(byUser.get_group(\"A3OXHLG6DIBRW8\")[\"HelpfulnessNumerator\"])\n",
    "\n",
    "bigUser = byUser.get_group(\"A3OXHLG6DIBRW8\")\n",
    "\n",
    "fig = px.scatter(x = (bigUser[\"HelpfulnessDenominator\"] - bigUser[\"HelpfulnessNumerator\"]), y = bigUser[\"HelpfulnessNumerator\"])\n",
    "\n",
    "fig.update_layout(\n",
    " xaxis_title = \"Negative Reactions\",\n",
    "    yaxis_title = \"Postive Reactions\"\n",
    ")\n",
    "\n",
    "fig.show()"
   ]
  },
  {
   "cell_type": "code",
   "execution_count": null,
   "metadata": {},
   "outputs": [],
   "source": [
    "bigUser = byUser.get_group(\"A3OXHLG6DIBRW8\")\n",
    "\n",
    "print(len(bigUser[\"HelpfulnessNumerator\"]))\n",
    "\n",
    "fig = px.scatter(x = bigUser[\"Time\"],y = bigUser[\"HelpfulnessNumerator\"])\n",
    "\n",
    "fig.update_layout(\n",
    "    xaxis_title = \"Time\",\n",
    "    yaxis_title = \"Helpfulness Numerator\"\n",
    "\n",
    ")\n",
    "fig.show()"
   ]
  },
  {
   "cell_type": "code",
   "execution_count": 36,
   "metadata": {},
   "outputs": [
    {
     "name": "stdout",
     "output_type": "stream",
     "text": [
      "here\n",
      "hi\n"
     ]
    },
    {
     "data": {
      "application/vnd.plotly.v1+json": {
       "config": {
        "plotlyServerURL": "https://plot.ly"
       },
       "data": [
        {
         "hovertemplate": "x=%{x}<br>y=%{y}<extra></extra>",
         "legendgroup": "",
         "marker": {
          "color": "#636efa",
          "symbol": "circle"
         },
         "mode": "markers",
         "name": "",
         "orientation": "v",
         "showlegend": false,
         "type": "scatter",
         "x": [
          1,
          2,
          3,
          4,
          6,
          5,
          7,
          8,
          55,
          9,
          26,
          14,
          10,
          11,
          18,
          12,
          13,
          60,
          72,
          15,
          41,
          21,
          17,
          51,
          36,
          16,
          28,
          45,
          25,
          33,
          23,
          20,
          57,
          47,
          24,
          69,
          19,
          40,
          44,
          27,
          50,
          30,
          43,
          75,
          52,
          53,
          22,
          29,
          32,
          42,
          64,
          76,
          71,
          83,
          113,
          37,
          31,
          39,
          59,
          48,
          65,
          54,
          68,
          35,
          46,
          38,
          34,
          67,
          104,
          66,
          126,
          49,
          140,
          87,
          74,
          154,
          86,
          56,
          120,
          92,
          84,
          90,
          204,
          157,
          151,
          135,
          80,
          61,
          96,
          421,
          110,
          256,
          114,
          70,
          95,
          98,
          365,
          172,
          94,
          82,
          62,
          89,
          133,
          105,
          161,
          88,
          125,
          115,
          107,
          201,
          111,
          63,
          109,
          77,
          143,
          117,
          175,
          58,
          85,
          119,
          150,
          162,
          142,
          141,
          118,
          134,
          73,
          121,
          124,
          127,
          149,
          448,
          99,
          178,
          116,
          106,
          199,
          78,
          79,
          155,
          123,
          176,
          389,
          167
         ],
         "xaxis": "x",
         "y": [
          null,
          1.759094249494764,
          1.6942435637836275,
          1.554561337236755,
          1.5532592055434695,
          1.5754845855639652,
          1.4759781281520412,
          1.830389144905274,
          1.1454545454545455,
          1.3474299784549093,
          1.5089068825910932,
          1.5763271815903395,
          2.5132412672623885,
          1.7058985414182186,
          1.2064197530864198,
          1.807640492686682,
          2.3157752930082176,
          1.4527777777777777,
          1.1805555555555556,
          1.5061488673139158,
          1.611280487804878,
          1.1158095238095238,
          1.7155491567256274,
          1.9743589743589745,
          2.349616858237548,
          1.5123381877022655,
          1.4963369963369964,
          1.4461538461538461,
          2.0755080213903745,
          1.7223851417399805,
          3.869565217391304,
          2.3571808510638297,
          2.2496626180836707,
          1.5851063829787233,
          1.8169326241134751,
          2.003623188405797,
          1.5917417854027334,
          2.1276315789473683,
          1.3806818181818181,
          1.3572433192686357,
          1.9114285714285715,
          1.3608333333333333,
          1.60912343470483,
          1.8111111111111111,
          2.9510489510489513,
          1.397941680960549,
          1.8830613830613832,
          1.3143018654607124,
          1.4357638888888888,
          1.7931547619047619,
          1.578125,
          11.953947368421053,
          1.5070422535211268,
          3.7409638554216866,
          5.348082595870206,
          1.6986076986076986,
          1.9759780370624571,
          1.4564102564102563,
          5.464891041162228,
          1.9680555555555554,
          1.4984615384615385,
          1.0041152263374487,
          1.6568627450980393,
          2.483673469387755,
          1.7753623188405796,
          2.0953947368421053,
          2.3110516934046346,
          0.6044776119402985,
          2.53525641025641,
          0.5416666666666666,
          1.2142857142857142,
          1.6904761904761905,
          5.771428571428571,
          2.4885057471264367,
          2.2432432432432434,
          5.876623376623376,
          0.7674418604651163,
          3.5,
          1.7166666666666666,
          2.9510869565217392,
          4.666666666666667,
          2.0555555555555554,
          0.6323529411764706,
          1.4904458598726114,
          8.331125827814569,
          0.24444444444444444,
          1.975,
          3.537704918032787,
          0.9895833333333334,
          3.0522565320665085,
          1.190909090909091,
          1.50390625,
          1.4649122807017543,
          0.4523809523809524,
          0.5,
          2.489795918367347,
          3.5123287671232877,
          7.534883720930233,
          2.2872340425531914,
          1.386178861788618,
          2.1733870967741935,
          2,
          1.8383458646616542,
          2.749206349206349,
          2.0683229813664594,
          1.75,
          1.308,
          2.7043478260869565,
          2.088785046728972,
          1.2487562189054726,
          1.1801801801801801,
          2.4285714285714284,
          0.6513761467889908,
          1.4848484848484849,
          2.4755244755244754,
          3.5042735042735043,
          4.28,
          2.0467980295566504,
          2.411764705882353,
          0.9915966386554622,
          1.1933333333333334,
          1.9753086419753085,
          2.063380281690141,
          1.673758865248227,
          1.923728813559322,
          0.31343283582089554,
          1.4748858447488584,
          3.4297520661157024,
          0.5725806451612904,
          1.7007874015748032,
          2.4966442953020134,
          3,
          2.111111111111111,
          3.955056179775281,
          3.689655172413793,
          3.1792452830188678,
          10.557788944723619,
          1.6837606837606838,
          1.259493670886076,
          1.6903225806451614,
          3.154471544715447,
          1.8977272727272727,
          1.2596401028277635,
          1.3173652694610778
         ],
         "yaxis": "y"
        }
       ],
       "layout": {
        "legend": {
         "tracegroupgap": 0
        },
        "margin": {
         "t": 60
        },
        "template": {
         "data": {
          "bar": [
           {
            "error_x": {
             "color": "#2a3f5f"
            },
            "error_y": {
             "color": "#2a3f5f"
            },
            "marker": {
             "line": {
              "color": "#E5ECF6",
              "width": 0.5
             }
            },
            "type": "bar"
           }
          ],
          "barpolar": [
           {
            "marker": {
             "line": {
              "color": "#E5ECF6",
              "width": 0.5
             }
            },
            "type": "barpolar"
           }
          ],
          "carpet": [
           {
            "aaxis": {
             "endlinecolor": "#2a3f5f",
             "gridcolor": "white",
             "linecolor": "white",
             "minorgridcolor": "white",
             "startlinecolor": "#2a3f5f"
            },
            "baxis": {
             "endlinecolor": "#2a3f5f",
             "gridcolor": "white",
             "linecolor": "white",
             "minorgridcolor": "white",
             "startlinecolor": "#2a3f5f"
            },
            "type": "carpet"
           }
          ],
          "choropleth": [
           {
            "colorbar": {
             "outlinewidth": 0,
             "ticks": ""
            },
            "type": "choropleth"
           }
          ],
          "contour": [
           {
            "colorbar": {
             "outlinewidth": 0,
             "ticks": ""
            },
            "colorscale": [
             [
              0,
              "#0d0887"
             ],
             [
              0.1111111111111111,
              "#46039f"
             ],
             [
              0.2222222222222222,
              "#7201a8"
             ],
             [
              0.3333333333333333,
              "#9c179e"
             ],
             [
              0.4444444444444444,
              "#bd3786"
             ],
             [
              0.5555555555555556,
              "#d8576b"
             ],
             [
              0.6666666666666666,
              "#ed7953"
             ],
             [
              0.7777777777777778,
              "#fb9f3a"
             ],
             [
              0.8888888888888888,
              "#fdca26"
             ],
             [
              1,
              "#f0f921"
             ]
            ],
            "type": "contour"
           }
          ],
          "contourcarpet": [
           {
            "colorbar": {
             "outlinewidth": 0,
             "ticks": ""
            },
            "type": "contourcarpet"
           }
          ],
          "heatmap": [
           {
            "colorbar": {
             "outlinewidth": 0,
             "ticks": ""
            },
            "colorscale": [
             [
              0,
              "#0d0887"
             ],
             [
              0.1111111111111111,
              "#46039f"
             ],
             [
              0.2222222222222222,
              "#7201a8"
             ],
             [
              0.3333333333333333,
              "#9c179e"
             ],
             [
              0.4444444444444444,
              "#bd3786"
             ],
             [
              0.5555555555555556,
              "#d8576b"
             ],
             [
              0.6666666666666666,
              "#ed7953"
             ],
             [
              0.7777777777777778,
              "#fb9f3a"
             ],
             [
              0.8888888888888888,
              "#fdca26"
             ],
             [
              1,
              "#f0f921"
             ]
            ],
            "type": "heatmap"
           }
          ],
          "heatmapgl": [
           {
            "colorbar": {
             "outlinewidth": 0,
             "ticks": ""
            },
            "colorscale": [
             [
              0,
              "#0d0887"
             ],
             [
              0.1111111111111111,
              "#46039f"
             ],
             [
              0.2222222222222222,
              "#7201a8"
             ],
             [
              0.3333333333333333,
              "#9c179e"
             ],
             [
              0.4444444444444444,
              "#bd3786"
             ],
             [
              0.5555555555555556,
              "#d8576b"
             ],
             [
              0.6666666666666666,
              "#ed7953"
             ],
             [
              0.7777777777777778,
              "#fb9f3a"
             ],
             [
              0.8888888888888888,
              "#fdca26"
             ],
             [
              1,
              "#f0f921"
             ]
            ],
            "type": "heatmapgl"
           }
          ],
          "histogram": [
           {
            "marker": {
             "colorbar": {
              "outlinewidth": 0,
              "ticks": ""
             }
            },
            "type": "histogram"
           }
          ],
          "histogram2d": [
           {
            "colorbar": {
             "outlinewidth": 0,
             "ticks": ""
            },
            "colorscale": [
             [
              0,
              "#0d0887"
             ],
             [
              0.1111111111111111,
              "#46039f"
             ],
             [
              0.2222222222222222,
              "#7201a8"
             ],
             [
              0.3333333333333333,
              "#9c179e"
             ],
             [
              0.4444444444444444,
              "#bd3786"
             ],
             [
              0.5555555555555556,
              "#d8576b"
             ],
             [
              0.6666666666666666,
              "#ed7953"
             ],
             [
              0.7777777777777778,
              "#fb9f3a"
             ],
             [
              0.8888888888888888,
              "#fdca26"
             ],
             [
              1,
              "#f0f921"
             ]
            ],
            "type": "histogram2d"
           }
          ],
          "histogram2dcontour": [
           {
            "colorbar": {
             "outlinewidth": 0,
             "ticks": ""
            },
            "colorscale": [
             [
              0,
              "#0d0887"
             ],
             [
              0.1111111111111111,
              "#46039f"
             ],
             [
              0.2222222222222222,
              "#7201a8"
             ],
             [
              0.3333333333333333,
              "#9c179e"
             ],
             [
              0.4444444444444444,
              "#bd3786"
             ],
             [
              0.5555555555555556,
              "#d8576b"
             ],
             [
              0.6666666666666666,
              "#ed7953"
             ],
             [
              0.7777777777777778,
              "#fb9f3a"
             ],
             [
              0.8888888888888888,
              "#fdca26"
             ],
             [
              1,
              "#f0f921"
             ]
            ],
            "type": "histogram2dcontour"
           }
          ],
          "mesh3d": [
           {
            "colorbar": {
             "outlinewidth": 0,
             "ticks": ""
            },
            "type": "mesh3d"
           }
          ],
          "parcoords": [
           {
            "line": {
             "colorbar": {
              "outlinewidth": 0,
              "ticks": ""
             }
            },
            "type": "parcoords"
           }
          ],
          "pie": [
           {
            "automargin": true,
            "type": "pie"
           }
          ],
          "scatter": [
           {
            "marker": {
             "colorbar": {
              "outlinewidth": 0,
              "ticks": ""
             }
            },
            "type": "scatter"
           }
          ],
          "scatter3d": [
           {
            "line": {
             "colorbar": {
              "outlinewidth": 0,
              "ticks": ""
             }
            },
            "marker": {
             "colorbar": {
              "outlinewidth": 0,
              "ticks": ""
             }
            },
            "type": "scatter3d"
           }
          ],
          "scattercarpet": [
           {
            "marker": {
             "colorbar": {
              "outlinewidth": 0,
              "ticks": ""
             }
            },
            "type": "scattercarpet"
           }
          ],
          "scattergeo": [
           {
            "marker": {
             "colorbar": {
              "outlinewidth": 0,
              "ticks": ""
             }
            },
            "type": "scattergeo"
           }
          ],
          "scattergl": [
           {
            "marker": {
             "colorbar": {
              "outlinewidth": 0,
              "ticks": ""
             }
            },
            "type": "scattergl"
           }
          ],
          "scattermapbox": [
           {
            "marker": {
             "colorbar": {
              "outlinewidth": 0,
              "ticks": ""
             }
            },
            "type": "scattermapbox"
           }
          ],
          "scatterpolar": [
           {
            "marker": {
             "colorbar": {
              "outlinewidth": 0,
              "ticks": ""
             }
            },
            "type": "scatterpolar"
           }
          ],
          "scatterpolargl": [
           {
            "marker": {
             "colorbar": {
              "outlinewidth": 0,
              "ticks": ""
             }
            },
            "type": "scatterpolargl"
           }
          ],
          "scatterternary": [
           {
            "marker": {
             "colorbar": {
              "outlinewidth": 0,
              "ticks": ""
             }
            },
            "type": "scatterternary"
           }
          ],
          "surface": [
           {
            "colorbar": {
             "outlinewidth": 0,
             "ticks": ""
            },
            "colorscale": [
             [
              0,
              "#0d0887"
             ],
             [
              0.1111111111111111,
              "#46039f"
             ],
             [
              0.2222222222222222,
              "#7201a8"
             ],
             [
              0.3333333333333333,
              "#9c179e"
             ],
             [
              0.4444444444444444,
              "#bd3786"
             ],
             [
              0.5555555555555556,
              "#d8576b"
             ],
             [
              0.6666666666666666,
              "#ed7953"
             ],
             [
              0.7777777777777778,
              "#fb9f3a"
             ],
             [
              0.8888888888888888,
              "#fdca26"
             ],
             [
              1,
              "#f0f921"
             ]
            ],
            "type": "surface"
           }
          ],
          "table": [
           {
            "cells": {
             "fill": {
              "color": "#EBF0F8"
             },
             "line": {
              "color": "white"
             }
            },
            "header": {
             "fill": {
              "color": "#C8D4E3"
             },
             "line": {
              "color": "white"
             }
            },
            "type": "table"
           }
          ]
         },
         "layout": {
          "annotationdefaults": {
           "arrowcolor": "#2a3f5f",
           "arrowhead": 0,
           "arrowwidth": 1
          },
          "coloraxis": {
           "colorbar": {
            "outlinewidth": 0,
            "ticks": ""
           }
          },
          "colorscale": {
           "diverging": [
            [
             0,
             "#8e0152"
            ],
            [
             0.1,
             "#c51b7d"
            ],
            [
             0.2,
             "#de77ae"
            ],
            [
             0.3,
             "#f1b6da"
            ],
            [
             0.4,
             "#fde0ef"
            ],
            [
             0.5,
             "#f7f7f7"
            ],
            [
             0.6,
             "#e6f5d0"
            ],
            [
             0.7,
             "#b8e186"
            ],
            [
             0.8,
             "#7fbc41"
            ],
            [
             0.9,
             "#4d9221"
            ],
            [
             1,
             "#276419"
            ]
           ],
           "sequential": [
            [
             0,
             "#0d0887"
            ],
            [
             0.1111111111111111,
             "#46039f"
            ],
            [
             0.2222222222222222,
             "#7201a8"
            ],
            [
             0.3333333333333333,
             "#9c179e"
            ],
            [
             0.4444444444444444,
             "#bd3786"
            ],
            [
             0.5555555555555556,
             "#d8576b"
            ],
            [
             0.6666666666666666,
             "#ed7953"
            ],
            [
             0.7777777777777778,
             "#fb9f3a"
            ],
            [
             0.8888888888888888,
             "#fdca26"
            ],
            [
             1,
             "#f0f921"
            ]
           ],
           "sequentialminus": [
            [
             0,
             "#0d0887"
            ],
            [
             0.1111111111111111,
             "#46039f"
            ],
            [
             0.2222222222222222,
             "#7201a8"
            ],
            [
             0.3333333333333333,
             "#9c179e"
            ],
            [
             0.4444444444444444,
             "#bd3786"
            ],
            [
             0.5555555555555556,
             "#d8576b"
            ],
            [
             0.6666666666666666,
             "#ed7953"
            ],
            [
             0.7777777777777778,
             "#fb9f3a"
            ],
            [
             0.8888888888888888,
             "#fdca26"
            ],
            [
             1,
             "#f0f921"
            ]
           ]
          },
          "colorway": [
           "#636efa",
           "#EF553B",
           "#00cc96",
           "#ab63fa",
           "#FFA15A",
           "#19d3f3",
           "#FF6692",
           "#B6E880",
           "#FF97FF",
           "#FECB52"
          ],
          "font": {
           "color": "#2a3f5f"
          },
          "geo": {
           "bgcolor": "white",
           "lakecolor": "white",
           "landcolor": "#E5ECF6",
           "showlakes": true,
           "showland": true,
           "subunitcolor": "white"
          },
          "hoverlabel": {
           "align": "left"
          },
          "hovermode": "closest",
          "mapbox": {
           "style": "light"
          },
          "paper_bgcolor": "white",
          "plot_bgcolor": "#E5ECF6",
          "polar": {
           "angularaxis": {
            "gridcolor": "white",
            "linecolor": "white",
            "ticks": ""
           },
           "bgcolor": "#E5ECF6",
           "radialaxis": {
            "gridcolor": "white",
            "linecolor": "white",
            "ticks": ""
           }
          },
          "scene": {
           "xaxis": {
            "backgroundcolor": "#E5ECF6",
            "gridcolor": "white",
            "gridwidth": 2,
            "linecolor": "white",
            "showbackground": true,
            "ticks": "",
            "zerolinecolor": "white"
           },
           "yaxis": {
            "backgroundcolor": "#E5ECF6",
            "gridcolor": "white",
            "gridwidth": 2,
            "linecolor": "white",
            "showbackground": true,
            "ticks": "",
            "zerolinecolor": "white"
           },
           "zaxis": {
            "backgroundcolor": "#E5ECF6",
            "gridcolor": "white",
            "gridwidth": 2,
            "linecolor": "white",
            "showbackground": true,
            "ticks": "",
            "zerolinecolor": "white"
           }
          },
          "shapedefaults": {
           "line": {
            "color": "#2a3f5f"
           }
          },
          "ternary": {
           "aaxis": {
            "gridcolor": "white",
            "linecolor": "white",
            "ticks": ""
           },
           "baxis": {
            "gridcolor": "white",
            "linecolor": "white",
            "ticks": ""
           },
           "bgcolor": "#E5ECF6",
           "caxis": {
            "gridcolor": "white",
            "linecolor": "white",
            "ticks": ""
           }
          },
          "title": {
           "x": 0.05
          },
          "xaxis": {
           "automargin": true,
           "gridcolor": "white",
           "linecolor": "white",
           "ticks": "",
           "title": {
            "standoff": 15
           },
           "zerolinecolor": "white",
           "zerolinewidth": 2
          },
          "yaxis": {
           "automargin": true,
           "gridcolor": "white",
           "linecolor": "white",
           "ticks": "",
           "title": {
            "standoff": 15
           },
           "zerolinecolor": "white",
           "zerolinewidth": 2
          }
         }
        },
        "xaxis": {
         "anchor": "y",
         "domain": [
          0,
          1
         ],
         "title": {
          "text": "Number of Reviews"
         }
        },
        "yaxis": {
         "anchor": "x",
         "domain": [
          0,
          1
         ],
         "title": {
          "text": "Average Helpfulness Numerator"
         }
        }
       }
      },
      "text/html": [
       "<div>                            <div id=\"2de7b6e2-2f47-4a64-803c-e2bc2f97351d\" class=\"plotly-graph-div\" style=\"height:525px; width:100%;\"></div>            <script type=\"text/javascript\">                require([\"plotly\"], function(Plotly) {                    window.PLOTLYENV=window.PLOTLYENV || {};                                    if (document.getElementById(\"2de7b6e2-2f47-4a64-803c-e2bc2f97351d\")) {                    Plotly.newPlot(                        \"2de7b6e2-2f47-4a64-803c-e2bc2f97351d\",                        [{\"hovertemplate\": \"x=%{x}<br>y=%{y}<extra></extra>\", \"legendgroup\": \"\", \"marker\": {\"color\": \"#636efa\", \"symbol\": \"circle\"}, \"mode\": \"markers\", \"name\": \"\", \"orientation\": \"v\", \"showlegend\": false, \"type\": \"scatter\", \"x\": [1, 2, 3, 4, 6, 5, 7, 8, 55, 9, 26, 14, 10, 11, 18, 12, 13, 60, 72, 15, 41, 21, 17, 51, 36, 16, 28, 45, 25, 33, 23, 20, 57, 47, 24, 69, 19, 40, 44, 27, 50, 30, 43, 75, 52, 53, 22, 29, 32, 42, 64, 76, 71, 83, 113, 37, 31, 39, 59, 48, 65, 54, 68, 35, 46, 38, 34, 67, 104, 66, 126, 49, 140, 87, 74, 154, 86, 56, 120, 92, 84, 90, 204, 157, 151, 135, 80, 61, 96, 421, 110, 256, 114, 70, 95, 98, 365, 172, 94, 82, 62, 89, 133, 105, 161, 88, 125, 115, 107, 201, 111, 63, 109, 77, 143, 117, 175, 58, 85, 119, 150, 162, 142, 141, 118, 134, 73, 121, 124, 127, 149, 448, 99, 178, 116, 106, 199, 78, 79, 155, 123, 176, 389, 167], \"xaxis\": \"x\", \"y\": [null, 1.759094249494764, 1.6942435637836275, 1.554561337236755, 1.5532592055434695, 1.5754845855639652, 1.4759781281520412, 1.830389144905274, 1.1454545454545455, 1.3474299784549093, 1.5089068825910932, 1.5763271815903395, 2.5132412672623885, 1.7058985414182186, 1.2064197530864198, 1.807640492686682, 2.3157752930082176, 1.4527777777777777, 1.1805555555555556, 1.5061488673139158, 1.611280487804878, 1.1158095238095238, 1.7155491567256274, 1.9743589743589745, 2.349616858237548, 1.5123381877022655, 1.4963369963369964, 1.4461538461538461, 2.0755080213903745, 1.7223851417399805, 3.869565217391304, 2.3571808510638297, 2.2496626180836707, 1.5851063829787233, 1.8169326241134751, 2.003623188405797, 1.5917417854027334, 2.1276315789473683, 1.3806818181818181, 1.3572433192686357, 1.9114285714285715, 1.3608333333333333, 1.60912343470483, 1.8111111111111111, 2.9510489510489513, 1.397941680960549, 1.8830613830613832, 1.3143018654607124, 1.4357638888888888, 1.7931547619047619, 1.578125, 11.953947368421053, 1.5070422535211268, 3.7409638554216866, 5.348082595870206, 1.6986076986076986, 1.9759780370624571, 1.4564102564102563, 5.464891041162228, 1.9680555555555554, 1.4984615384615385, 1.0041152263374487, 1.6568627450980393, 2.483673469387755, 1.7753623188405796, 2.0953947368421053, 2.3110516934046346, 0.6044776119402985, 2.53525641025641, 0.5416666666666666, 1.2142857142857142, 1.6904761904761905, 5.771428571428571, 2.4885057471264367, 2.2432432432432434, 5.876623376623376, 0.7674418604651163, 3.5, 1.7166666666666666, 2.9510869565217392, 4.666666666666667, 2.0555555555555554, 0.6323529411764706, 1.4904458598726114, 8.331125827814569, 0.24444444444444444, 1.975, 3.537704918032787, 0.9895833333333334, 3.0522565320665085, 1.190909090909091, 1.50390625, 1.4649122807017543, 0.4523809523809524, 0.5, 2.489795918367347, 3.5123287671232877, 7.534883720930233, 2.2872340425531914, 1.386178861788618, 2.1733870967741935, 2.0, 1.8383458646616542, 2.749206349206349, 2.0683229813664594, 1.75, 1.308, 2.7043478260869565, 2.088785046728972, 1.2487562189054726, 1.1801801801801801, 2.4285714285714284, 0.6513761467889908, 1.4848484848484849, 2.4755244755244754, 3.5042735042735043, 4.28, 2.0467980295566504, 2.411764705882353, 0.9915966386554622, 1.1933333333333334, 1.9753086419753085, 2.063380281690141, 1.673758865248227, 1.923728813559322, 0.31343283582089554, 1.4748858447488584, 3.4297520661157024, 0.5725806451612904, 1.7007874015748032, 2.4966442953020134, 3.0, 2.111111111111111, 3.955056179775281, 3.689655172413793, 3.1792452830188678, 10.557788944723619, 1.6837606837606838, 1.259493670886076, 1.6903225806451614, 3.154471544715447, 1.8977272727272727, 1.2596401028277635, 1.3173652694610778], \"yaxis\": \"y\"}],                        {\"legend\": {\"tracegroupgap\": 0}, \"margin\": {\"t\": 60}, \"template\": {\"data\": {\"bar\": [{\"error_x\": {\"color\": \"#2a3f5f\"}, \"error_y\": {\"color\": \"#2a3f5f\"}, \"marker\": {\"line\": {\"color\": \"#E5ECF6\", \"width\": 0.5}}, \"type\": \"bar\"}], \"barpolar\": [{\"marker\": {\"line\": {\"color\": \"#E5ECF6\", \"width\": 0.5}}, \"type\": \"barpolar\"}], \"carpet\": [{\"aaxis\": {\"endlinecolor\": \"#2a3f5f\", \"gridcolor\": \"white\", \"linecolor\": \"white\", \"minorgridcolor\": \"white\", \"startlinecolor\": \"#2a3f5f\"}, \"baxis\": {\"endlinecolor\": \"#2a3f5f\", \"gridcolor\": \"white\", \"linecolor\": \"white\", \"minorgridcolor\": \"white\", \"startlinecolor\": \"#2a3f5f\"}, \"type\": \"carpet\"}], \"choropleth\": [{\"colorbar\": {\"outlinewidth\": 0, \"ticks\": \"\"}, \"type\": \"choropleth\"}], \"contour\": [{\"colorbar\": {\"outlinewidth\": 0, \"ticks\": \"\"}, \"colorscale\": [[0.0, \"#0d0887\"], [0.1111111111111111, \"#46039f\"], [0.2222222222222222, \"#7201a8\"], [0.3333333333333333, \"#9c179e\"], [0.4444444444444444, \"#bd3786\"], [0.5555555555555556, \"#d8576b\"], [0.6666666666666666, \"#ed7953\"], [0.7777777777777778, \"#fb9f3a\"], [0.8888888888888888, \"#fdca26\"], [1.0, \"#f0f921\"]], \"type\": \"contour\"}], \"contourcarpet\": [{\"colorbar\": {\"outlinewidth\": 0, \"ticks\": \"\"}, \"type\": \"contourcarpet\"}], \"heatmap\": [{\"colorbar\": {\"outlinewidth\": 0, \"ticks\": \"\"}, \"colorscale\": [[0.0, \"#0d0887\"], [0.1111111111111111, \"#46039f\"], [0.2222222222222222, \"#7201a8\"], [0.3333333333333333, \"#9c179e\"], [0.4444444444444444, \"#bd3786\"], [0.5555555555555556, \"#d8576b\"], [0.6666666666666666, \"#ed7953\"], [0.7777777777777778, \"#fb9f3a\"], [0.8888888888888888, \"#fdca26\"], [1.0, \"#f0f921\"]], \"type\": \"heatmap\"}], \"heatmapgl\": [{\"colorbar\": {\"outlinewidth\": 0, \"ticks\": \"\"}, \"colorscale\": [[0.0, \"#0d0887\"], [0.1111111111111111, \"#46039f\"], [0.2222222222222222, \"#7201a8\"], [0.3333333333333333, \"#9c179e\"], [0.4444444444444444, \"#bd3786\"], [0.5555555555555556, \"#d8576b\"], [0.6666666666666666, \"#ed7953\"], [0.7777777777777778, \"#fb9f3a\"], [0.8888888888888888, \"#fdca26\"], [1.0, \"#f0f921\"]], \"type\": \"heatmapgl\"}], \"histogram\": [{\"marker\": {\"colorbar\": {\"outlinewidth\": 0, \"ticks\": \"\"}}, \"type\": \"histogram\"}], \"histogram2d\": [{\"colorbar\": {\"outlinewidth\": 0, \"ticks\": \"\"}, \"colorscale\": [[0.0, \"#0d0887\"], [0.1111111111111111, \"#46039f\"], [0.2222222222222222, \"#7201a8\"], [0.3333333333333333, \"#9c179e\"], [0.4444444444444444, \"#bd3786\"], [0.5555555555555556, \"#d8576b\"], [0.6666666666666666, \"#ed7953\"], [0.7777777777777778, \"#fb9f3a\"], [0.8888888888888888, \"#fdca26\"], [1.0, \"#f0f921\"]], \"type\": \"histogram2d\"}], \"histogram2dcontour\": [{\"colorbar\": {\"outlinewidth\": 0, \"ticks\": \"\"}, \"colorscale\": [[0.0, \"#0d0887\"], [0.1111111111111111, \"#46039f\"], [0.2222222222222222, \"#7201a8\"], [0.3333333333333333, \"#9c179e\"], [0.4444444444444444, \"#bd3786\"], [0.5555555555555556, \"#d8576b\"], [0.6666666666666666, \"#ed7953\"], [0.7777777777777778, \"#fb9f3a\"], [0.8888888888888888, \"#fdca26\"], [1.0, \"#f0f921\"]], \"type\": \"histogram2dcontour\"}], \"mesh3d\": [{\"colorbar\": {\"outlinewidth\": 0, \"ticks\": \"\"}, \"type\": \"mesh3d\"}], \"parcoords\": [{\"line\": {\"colorbar\": {\"outlinewidth\": 0, \"ticks\": \"\"}}, \"type\": \"parcoords\"}], \"pie\": [{\"automargin\": true, \"type\": \"pie\"}], \"scatter\": [{\"marker\": {\"colorbar\": {\"outlinewidth\": 0, \"ticks\": \"\"}}, \"type\": \"scatter\"}], \"scatter3d\": [{\"line\": {\"colorbar\": {\"outlinewidth\": 0, \"ticks\": \"\"}}, \"marker\": {\"colorbar\": {\"outlinewidth\": 0, \"ticks\": \"\"}}, \"type\": \"scatter3d\"}], \"scattercarpet\": [{\"marker\": {\"colorbar\": {\"outlinewidth\": 0, \"ticks\": \"\"}}, \"type\": \"scattercarpet\"}], \"scattergeo\": [{\"marker\": {\"colorbar\": {\"outlinewidth\": 0, \"ticks\": \"\"}}, \"type\": \"scattergeo\"}], \"scattergl\": [{\"marker\": {\"colorbar\": {\"outlinewidth\": 0, \"ticks\": \"\"}}, \"type\": \"scattergl\"}], \"scattermapbox\": [{\"marker\": {\"colorbar\": {\"outlinewidth\": 0, \"ticks\": \"\"}}, \"type\": \"scattermapbox\"}], \"scatterpolar\": [{\"marker\": {\"colorbar\": {\"outlinewidth\": 0, \"ticks\": \"\"}}, \"type\": \"scatterpolar\"}], \"scatterpolargl\": [{\"marker\": {\"colorbar\": {\"outlinewidth\": 0, \"ticks\": \"\"}}, \"type\": \"scatterpolargl\"}], \"scatterternary\": [{\"marker\": {\"colorbar\": {\"outlinewidth\": 0, \"ticks\": \"\"}}, \"type\": \"scatterternary\"}], \"surface\": [{\"colorbar\": {\"outlinewidth\": 0, \"ticks\": \"\"}, \"colorscale\": [[0.0, \"#0d0887\"], [0.1111111111111111, \"#46039f\"], [0.2222222222222222, \"#7201a8\"], [0.3333333333333333, \"#9c179e\"], [0.4444444444444444, \"#bd3786\"], [0.5555555555555556, \"#d8576b\"], [0.6666666666666666, \"#ed7953\"], [0.7777777777777778, \"#fb9f3a\"], [0.8888888888888888, \"#fdca26\"], [1.0, \"#f0f921\"]], \"type\": \"surface\"}], \"table\": [{\"cells\": {\"fill\": {\"color\": \"#EBF0F8\"}, \"line\": {\"color\": \"white\"}}, \"header\": {\"fill\": {\"color\": \"#C8D4E3\"}, \"line\": {\"color\": \"white\"}}, \"type\": \"table\"}]}, \"layout\": {\"annotationdefaults\": {\"arrowcolor\": \"#2a3f5f\", \"arrowhead\": 0, \"arrowwidth\": 1}, \"coloraxis\": {\"colorbar\": {\"outlinewidth\": 0, \"ticks\": \"\"}}, \"colorscale\": {\"diverging\": [[0, \"#8e0152\"], [0.1, \"#c51b7d\"], [0.2, \"#de77ae\"], [0.3, \"#f1b6da\"], [0.4, \"#fde0ef\"], [0.5, \"#f7f7f7\"], [0.6, \"#e6f5d0\"], [0.7, \"#b8e186\"], [0.8, \"#7fbc41\"], [0.9, \"#4d9221\"], [1, \"#276419\"]], \"sequential\": [[0.0, \"#0d0887\"], [0.1111111111111111, \"#46039f\"], [0.2222222222222222, \"#7201a8\"], [0.3333333333333333, \"#9c179e\"], [0.4444444444444444, \"#bd3786\"], [0.5555555555555556, \"#d8576b\"], [0.6666666666666666, \"#ed7953\"], [0.7777777777777778, \"#fb9f3a\"], [0.8888888888888888, \"#fdca26\"], [1.0, \"#f0f921\"]], \"sequentialminus\": [[0.0, \"#0d0887\"], [0.1111111111111111, \"#46039f\"], [0.2222222222222222, \"#7201a8\"], [0.3333333333333333, \"#9c179e\"], [0.4444444444444444, \"#bd3786\"], [0.5555555555555556, \"#d8576b\"], [0.6666666666666666, \"#ed7953\"], [0.7777777777777778, \"#fb9f3a\"], [0.8888888888888888, \"#fdca26\"], [1.0, \"#f0f921\"]]}, \"colorway\": [\"#636efa\", \"#EF553B\", \"#00cc96\", \"#ab63fa\", \"#FFA15A\", \"#19d3f3\", \"#FF6692\", \"#B6E880\", \"#FF97FF\", \"#FECB52\"], \"font\": {\"color\": \"#2a3f5f\"}, \"geo\": {\"bgcolor\": \"white\", \"lakecolor\": \"white\", \"landcolor\": \"#E5ECF6\", \"showlakes\": true, \"showland\": true, \"subunitcolor\": \"white\"}, \"hoverlabel\": {\"align\": \"left\"}, \"hovermode\": \"closest\", \"mapbox\": {\"style\": \"light\"}, \"paper_bgcolor\": \"white\", \"plot_bgcolor\": \"#E5ECF6\", \"polar\": {\"angularaxis\": {\"gridcolor\": \"white\", \"linecolor\": \"white\", \"ticks\": \"\"}, \"bgcolor\": \"#E5ECF6\", \"radialaxis\": {\"gridcolor\": \"white\", \"linecolor\": \"white\", \"ticks\": \"\"}}, \"scene\": {\"xaxis\": {\"backgroundcolor\": \"#E5ECF6\", \"gridcolor\": \"white\", \"gridwidth\": 2, \"linecolor\": \"white\", \"showbackground\": true, \"ticks\": \"\", \"zerolinecolor\": \"white\"}, \"yaxis\": {\"backgroundcolor\": \"#E5ECF6\", \"gridcolor\": \"white\", \"gridwidth\": 2, \"linecolor\": \"white\", \"showbackground\": true, \"ticks\": \"\", \"zerolinecolor\": \"white\"}, \"zaxis\": {\"backgroundcolor\": \"#E5ECF6\", \"gridcolor\": \"white\", \"gridwidth\": 2, \"linecolor\": \"white\", \"showbackground\": true, \"ticks\": \"\", \"zerolinecolor\": \"white\"}}, \"shapedefaults\": {\"line\": {\"color\": \"#2a3f5f\"}}, \"ternary\": {\"aaxis\": {\"gridcolor\": \"white\", \"linecolor\": \"white\", \"ticks\": \"\"}, \"baxis\": {\"gridcolor\": \"white\", \"linecolor\": \"white\", \"ticks\": \"\"}, \"bgcolor\": \"#E5ECF6\", \"caxis\": {\"gridcolor\": \"white\", \"linecolor\": \"white\", \"ticks\": \"\"}}, \"title\": {\"x\": 0.05}, \"xaxis\": {\"automargin\": true, \"gridcolor\": \"white\", \"linecolor\": \"white\", \"ticks\": \"\", \"title\": {\"standoff\": 15}, \"zerolinecolor\": \"white\", \"zerolinewidth\": 2}, \"yaxis\": {\"automargin\": true, \"gridcolor\": \"white\", \"linecolor\": \"white\", \"ticks\": \"\", \"title\": {\"standoff\": 15}, \"zerolinecolor\": \"white\", \"zerolinewidth\": 2}}}, \"xaxis\": {\"anchor\": \"y\", \"domain\": [0.0, 1.0], \"title\": {\"text\": \"Number of Reviews\"}}, \"yaxis\": {\"anchor\": \"x\", \"domain\": [0.0, 1.0], \"title\": {\"text\": \"Average Helpfulness Numerator\"}}},                        {\"responsive\": true}                    ).then(function(){\n",
       "                            \n",
       "var gd = document.getElementById('2de7b6e2-2f47-4a64-803c-e2bc2f97351d');\n",
       "var x = new MutationObserver(function (mutations, observer) {{\n",
       "        var display = window.getComputedStyle(gd).display;\n",
       "        if (!display || display === 'none') {{\n",
       "            console.log([gd, 'removed!']);\n",
       "            Plotly.purge(gd);\n",
       "            observer.disconnect();\n",
       "        }}\n",
       "}});\n",
       "\n",
       "// Listen for the removal of the full notebook cells\n",
       "var notebookContainer = gd.closest('#notebook-container');\n",
       "if (notebookContainer) {{\n",
       "    x.observe(notebookContainer, {childList: true});\n",
       "}}\n",
       "\n",
       "// Listen for the clearing of the current output cell\n",
       "var outputEl = gd.closest('.output');\n",
       "if (outputEl) {{\n",
       "    x.observe(outputEl, {childList: true});\n",
       "}}\n",
       "\n",
       "                        })                };                });            </script>        </div>"
      ]
     },
     "metadata": {},
     "output_type": "display_data"
    }
   ],
   "source": [
    "numReviews = []\n",
    "avgHelpfulnessNumerator = []\n",
    "print(\"here\")\n",
    "\n",
    "numHelpDict = {}\n",
    "\n",
    "for id,data in byUser:\n",
    "    rev = len(data[\"ProductId\"])\n",
    "    if rev in numHelpDict:\n",
    "        for item in data['HelpfulnessNumerator']:\n",
    "            numHelpDict[rev].append(item)\n",
    "    else: \n",
    "        append = []\n",
    "        for item in data[\"HelpfulnessNumerator\"]:\n",
    "            append.append(item)\n",
    "            numHelpDict[rev] = append\n",
    "    \n",
    "    temp = 0\n",
    "    numReviews.append(rev)\n",
    "    for item in data[\"HelpfulnessNumerator\"]:\n",
    "        temp += item\n",
    "    avg = temp/rev\n",
    "    avgHelpfulnessNumerator.append(avg)\n",
    "    \n",
    "print(\"hi\")\n",
    "\n",
    "avgHelpfulnessByReviewX = []\n",
    "helpfulnessValues = []\n",
    "for number in numHelpDict:\n",
    "    avgHelpfulnessByReviewX.append(number)\n",
    "    helpfulnessValues.append((sum(numHelpDict[number]) / len(numHelpDict[number])))\n",
    "\n",
    "    \n",
    "    \n",
    "fig = px.scatter(x = avgHelpfulnessByReviewX, y = helpfulnessValues)\n",
    "fig.update_layout(\n",
    "    xaxis_title = \"Number of Reviews\",\n",
    "    yaxis_title = \"Average Helpfulness Numerator\"\n",
    ")\n",
    "\n",
    "fig.show()\n",
    "\n"
   ]
  },
  {
   "cell_type": "code",
   "execution_count": null,
   "metadata": {},
   "outputs": [],
   "source": [
    "#proportion of people that found the review helpful\n",
    "numReviews = []\n",
    "avgHelpfulness = []\n",
    "\n",
    "\n",
    "for id,data in byUser: \n",
    "    if len(data[\"ProductId\"]) != len(data[\"HelpfulnessDenominator\"]):\n",
    "        print(len(data[\"ProductId\"]))\n",
    "        print(len(data[\"HelpfulnessDenominator\"]))\n",
    "        print(\" \")\n",
    "    #rev = len(data[\"ProductId\"])\n",
    "    #temp = 0\n",
    "    #numReviews.append(rev)\n",
    "    #for i in range(rev) - 1:\n",
    "     #   if data[\"HelpfulnessDenominator\"][i] > 0:\n",
    "      #      temp += data[\"HelpfulnessNumerator\"]/float(data[\"HelpfulnessDenominator\"])\n",
    "    #avg = temp/rev\n",
    "    #avgHelpfulness.append(avg)\n",
    "    \n",
    "fig = px.scatter(x = numReviews, y = avgHelpfulnessNumerator)\n",
    "fig.update_layout(\n",
    "    xaxis_title = \"Number of Reviews\",\n",
    "    yaxis_title = \"Average Proportion of Readers Finding Review Helpful\"\n",
    ")\n",
    "#fig.show()"
   ]
  },
  {
   "cell_type": "code",
   "execution_count": null,
   "metadata": {},
   "outputs": [],
   "source": [
    "numReviews = []\n",
    "firstReviewHelpfulness = []\n",
    "\n",
    "for id,data in byUser:\n",
    "    rev = len(data[\"ProductId\"])\n",
    "    counter = 1\n",
    "    numReviews.append(rev)\n",
    "    for item in data[\"HelpfulnessNumerator\"]:\n",
    "        if counter > 0:\n",
    "            firstReviewHelpfulness.append(item)\n",
    "            counter = counter - 1 \n",
    "    \n",
    "print(\"hi\")\n",
    "fig = px.scatter(x = numReviews, y = firstReviewHelpfulness)\n",
    "fig.update_layout(\n",
    "    xaxis_title = \"Number of Reviews\",\n",
    "    yaxis_title = \"Helpfulness Numerator for First Review\"\n",
    ")\n",
    "\n",
    "fig.show()"
   ]
  },
  {
   "cell_type": "code",
   "execution_count": null,
   "metadata": {},
   "outputs": [],
   "source": [
    "bigUser = byUser.get_group(\"A3OXHLG6DIBRW8\")\n",
    "\n",
    "lengths = []\n",
    "for item in bigUser[\"Text\"]:\n",
    "    lengths.append(len(item))\n",
    "    \n",
    "fig = px.scatter(x = bigUser[\"HelpfulnessNumerator\"], y = lengths)\n",
    "fig.update_layout(\n",
    "    xaxis_title = \"Helpfulness Numerator\",\n",
    "    yaxis_title = \"Length of Review\"\n",
    ")\n",
    "\n",
    "fig.show()"
   ]
  },
  {
   "cell_type": "code",
   "execution_count": null,
   "metadata": {},
   "outputs": [],
   "source": []
  }
 ],
 "metadata": {
  "kernelspec": {
   "display_name": "Python 3",
   "language": "python",
   "name": "python3"
  },
  "language_info": {
   "codemirror_mode": {
    "name": "ipython",
    "version": 3
   },
   "file_extension": ".py",
   "mimetype": "text/x-python",
   "name": "python",
   "nbconvert_exporter": "python",
   "pygments_lexer": "ipython3",
   "version": "3.8.3"
  }
 },
 "nbformat": 4,
 "nbformat_minor": 4
}
