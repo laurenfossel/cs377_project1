{
 "cells": [
  {
   "cell_type": "code",
   "execution_count": 2,
   "metadata": {},
   "outputs": [
    {
     "name": "stdout",
     "output_type": "stream",
     "text": [
      "Index(['Id', 'ProductId', 'UserId', 'ProfileName', 'HelpfulnessNumerator',\n",
      "       'HelpfulnessDenominator', 'Score', 'Time', 'Summary', 'Text'],\n",
      "      dtype='object')\n"
     ]
    },
    {
     "data": {
      "text/plain": [
       "256059"
      ]
     },
     "execution_count": 2,
     "metadata": {},
     "output_type": "execute_result"
    }
   ],
   "source": [
    "import pandas as pd # import pandas library\n",
    "import time\n",
    "import plotly.express as px\n",
    "\n",
    "df = pd.read_csv('Reviews.csv', low_memory=False)# read the csv file into a pandas dataframe object\n",
    "print(df.columns)\n",
    "#len(pd.unique(df[\"UserId\"].values.ravel()))\n",
    "\n",
    "userDict = {}\n",
    "\n",
    "for index, row in df.iterrows():\n",
    "    if row[\"UserId\"] in userDict:\n",
    "        userDict[row[\"UserId\"]].append(row)\n",
    "    else:\n",
    "        userDict[row[\"UserId\"]] = [row]\n",
    "        \n",
    "len(userDict)\n",
    "\n",
    "# hello there\n",
    "#hi hi\n",
    "\n",
    "\n",
    "\n",
    "\n"
   ]
  },
  {
   "cell_type": "code",
   "execution_count": 13,
   "metadata": {},
   "outputs": [
    {
     "name": "stdout",
     "output_type": "stream",
     "text": [
      "{1: 175391, 3: 13828, 2: 32658, 4: 10589, 12: 866, 20: 188, 201: 1, 49: 12, 17: 286, 6: 4137, 10: 1231, 88: 1, 133: 2, 14: 627, 9: 1805, 5: 5417, 21: 125, 13: 571, 16: 309, 8: 1953, 18: 225, 11: 991, 7: 2691, 389: 1, 15: 412, 75: 6, 256: 1, 27: 79, 47: 14, 33: 31, 23: 124, 22: 117, 140: 1, 59: 7, 99: 1, 42: 16, 29: 61, 68: 6, 48: 15, 44: 20, 25: 187, 38: 16, 19: 181, 28: 78, 448: 1, 96: 2, 114: 2, 123: 1, 107: 2, 32: 36, 111: 1, 61: 5, 43: 26, 36: 29, 105: 3, 39: 20, 41: 16, 60: 6, 30: 40, 178: 1, 162: 2, 34: 33, 72: 4, 37: 33, 40: 19, 94: 3, 110: 2, 26: 95, 73: 3, 125: 2, 92: 2, 82: 3, 176: 1, 98: 3, 83: 2, 155: 1, 31: 47, 63: 9, 35: 28, 52: 11, 151: 1, 24: 94, 104: 3, 118: 1, 87: 2, 65: 5, 69: 4, 51: 13, 67: 2, 149: 1, 117: 1, 45: 13, 54: 9, 77: 3, 46: 12, 421: 1, 66: 4, 55: 9, 365: 1, 79: 2, 167: 1, 143: 2, 56: 6, 57: 13, 71: 4, 134: 1, 89: 2, 172: 1, 85: 2, 199: 1, 106: 1, 141: 1, 121: 1, 78: 3, 74: 2, 80: 2, 113: 3, 142: 1, 157: 1, 50: 7, 161: 1, 204: 1, 150: 2, 58: 7, 119: 1, 70: 3, 126: 1, 62: 4, 95: 2, 127: 1, 64: 3, 120: 1, 135: 1, 175: 1, 84: 2, 115: 1, 53: 11, 109: 1, 90: 1, 154: 1, 116: 1, 124: 1, 76: 2, 86: 1}\n"
     ]
    },
    {
     "data": {
      "application/vnd.plotly.v1+json": {
       "config": {
        "plotlyServerURL": "https://plot.ly"
       },
       "data": [
        {
         "alignmentgroup": "True",
         "hovertemplate": "x=%{x}<br>y=%{y}<extra></extra>",
         "legendgroup": "",
         "marker": {
          "color": "#636efa"
         },
         "name": "",
         "offsetgroup": "",
         "orientation": "v",
         "showlegend": false,
         "textposition": "auto",
         "type": "bar",
         "x": [
          1,
          3,
          2,
          4,
          12,
          20,
          201,
          49,
          17,
          6,
          10,
          88,
          133,
          14,
          9,
          5,
          21,
          13,
          16,
          8,
          18,
          11,
          7,
          389,
          15,
          75,
          256,
          27,
          47,
          33,
          23,
          22,
          140,
          59,
          99,
          42,
          29,
          68,
          48,
          44,
          25,
          38,
          19,
          28,
          448,
          96,
          114,
          123,
          107,
          32,
          111,
          61,
          43,
          36,
          105,
          39,
          41,
          60,
          30,
          178,
          162,
          34,
          72,
          37,
          40,
          94,
          110,
          26,
          73,
          125,
          92,
          82,
          176,
          98,
          83,
          155,
          31,
          63,
          35,
          52,
          151,
          24,
          104,
          118,
          87,
          65,
          69,
          51,
          67,
          149,
          117,
          45,
          54,
          77,
          46,
          421,
          66,
          55,
          365,
          79,
          167,
          143,
          56,
          57,
          71,
          134,
          89,
          172,
          85,
          199,
          106,
          141,
          121,
          78,
          74,
          80,
          113,
          142,
          157,
          50,
          161,
          204,
          150,
          58,
          119,
          70,
          126,
          62,
          95,
          127,
          64,
          120,
          135,
          175,
          84,
          115,
          53,
          109,
          90,
          154,
          116,
          124,
          76,
          86
         ],
         "xaxis": "x",
         "y": [
          175391,
          13828,
          32658,
          10589,
          866,
          188,
          1,
          12,
          286,
          4137,
          1231,
          1,
          2,
          627,
          1805,
          5417,
          125,
          571,
          309,
          1953,
          225,
          991,
          2691,
          1,
          412,
          6,
          1,
          79,
          14,
          31,
          124,
          117,
          1,
          7,
          1,
          16,
          61,
          6,
          15,
          20,
          187,
          16,
          181,
          78,
          1,
          2,
          2,
          1,
          2,
          36,
          1,
          5,
          26,
          29,
          3,
          20,
          16,
          6,
          40,
          1,
          2,
          33,
          4,
          33,
          19,
          3,
          2,
          95,
          3,
          2,
          2,
          3,
          1,
          3,
          2,
          1,
          47,
          9,
          28,
          11,
          1,
          94,
          3,
          1,
          2,
          5,
          4,
          13,
          2,
          1,
          1,
          13,
          9,
          3,
          12,
          1,
          4,
          9,
          1,
          2,
          1,
          2,
          6,
          13,
          4,
          1,
          2,
          1,
          2,
          1,
          1,
          1,
          1,
          3,
          2,
          2,
          3,
          1,
          1,
          7,
          1,
          1,
          2,
          7,
          1,
          3,
          1,
          4,
          2,
          1,
          3,
          1,
          1,
          1,
          2,
          1,
          11,
          1,
          1,
          1,
          1,
          1,
          2,
          1
         ],
         "yaxis": "y"
        }
       ],
       "layout": {
        "barmode": "relative",
        "legend": {
         "tracegroupgap": 0
        },
        "margin": {
         "t": 60
        },
        "template": {
         "data": {
          "bar": [
           {
            "error_x": {
             "color": "#2a3f5f"
            },
            "error_y": {
             "color": "#2a3f5f"
            },
            "marker": {
             "line": {
              "color": "#E5ECF6",
              "width": 0.5
             }
            },
            "type": "bar"
           }
          ],
          "barpolar": [
           {
            "marker": {
             "line": {
              "color": "#E5ECF6",
              "width": 0.5
             }
            },
            "type": "barpolar"
           }
          ],
          "carpet": [
           {
            "aaxis": {
             "endlinecolor": "#2a3f5f",
             "gridcolor": "white",
             "linecolor": "white",
             "minorgridcolor": "white",
             "startlinecolor": "#2a3f5f"
            },
            "baxis": {
             "endlinecolor": "#2a3f5f",
             "gridcolor": "white",
             "linecolor": "white",
             "minorgridcolor": "white",
             "startlinecolor": "#2a3f5f"
            },
            "type": "carpet"
           }
          ],
          "choropleth": [
           {
            "colorbar": {
             "outlinewidth": 0,
             "ticks": ""
            },
            "type": "choropleth"
           }
          ],
          "contour": [
           {
            "colorbar": {
             "outlinewidth": 0,
             "ticks": ""
            },
            "colorscale": [
             [
              0,
              "#0d0887"
             ],
             [
              0.1111111111111111,
              "#46039f"
             ],
             [
              0.2222222222222222,
              "#7201a8"
             ],
             [
              0.3333333333333333,
              "#9c179e"
             ],
             [
              0.4444444444444444,
              "#bd3786"
             ],
             [
              0.5555555555555556,
              "#d8576b"
             ],
             [
              0.6666666666666666,
              "#ed7953"
             ],
             [
              0.7777777777777778,
              "#fb9f3a"
             ],
             [
              0.8888888888888888,
              "#fdca26"
             ],
             [
              1,
              "#f0f921"
             ]
            ],
            "type": "contour"
           }
          ],
          "contourcarpet": [
           {
            "colorbar": {
             "outlinewidth": 0,
             "ticks": ""
            },
            "type": "contourcarpet"
           }
          ],
          "heatmap": [
           {
            "colorbar": {
             "outlinewidth": 0,
             "ticks": ""
            },
            "colorscale": [
             [
              0,
              "#0d0887"
             ],
             [
              0.1111111111111111,
              "#46039f"
             ],
             [
              0.2222222222222222,
              "#7201a8"
             ],
             [
              0.3333333333333333,
              "#9c179e"
             ],
             [
              0.4444444444444444,
              "#bd3786"
             ],
             [
              0.5555555555555556,
              "#d8576b"
             ],
             [
              0.6666666666666666,
              "#ed7953"
             ],
             [
              0.7777777777777778,
              "#fb9f3a"
             ],
             [
              0.8888888888888888,
              "#fdca26"
             ],
             [
              1,
              "#f0f921"
             ]
            ],
            "type": "heatmap"
           }
          ],
          "heatmapgl": [
           {
            "colorbar": {
             "outlinewidth": 0,
             "ticks": ""
            },
            "colorscale": [
             [
              0,
              "#0d0887"
             ],
             [
              0.1111111111111111,
              "#46039f"
             ],
             [
              0.2222222222222222,
              "#7201a8"
             ],
             [
              0.3333333333333333,
              "#9c179e"
             ],
             [
              0.4444444444444444,
              "#bd3786"
             ],
             [
              0.5555555555555556,
              "#d8576b"
             ],
             [
              0.6666666666666666,
              "#ed7953"
             ],
             [
              0.7777777777777778,
              "#fb9f3a"
             ],
             [
              0.8888888888888888,
              "#fdca26"
             ],
             [
              1,
              "#f0f921"
             ]
            ],
            "type": "heatmapgl"
           }
          ],
          "histogram": [
           {
            "marker": {
             "colorbar": {
              "outlinewidth": 0,
              "ticks": ""
             }
            },
            "type": "histogram"
           }
          ],
          "histogram2d": [
           {
            "colorbar": {
             "outlinewidth": 0,
             "ticks": ""
            },
            "colorscale": [
             [
              0,
              "#0d0887"
             ],
             [
              0.1111111111111111,
              "#46039f"
             ],
             [
              0.2222222222222222,
              "#7201a8"
             ],
             [
              0.3333333333333333,
              "#9c179e"
             ],
             [
              0.4444444444444444,
              "#bd3786"
             ],
             [
              0.5555555555555556,
              "#d8576b"
             ],
             [
              0.6666666666666666,
              "#ed7953"
             ],
             [
              0.7777777777777778,
              "#fb9f3a"
             ],
             [
              0.8888888888888888,
              "#fdca26"
             ],
             [
              1,
              "#f0f921"
             ]
            ],
            "type": "histogram2d"
           }
          ],
          "histogram2dcontour": [
           {
            "colorbar": {
             "outlinewidth": 0,
             "ticks": ""
            },
            "colorscale": [
             [
              0,
              "#0d0887"
             ],
             [
              0.1111111111111111,
              "#46039f"
             ],
             [
              0.2222222222222222,
              "#7201a8"
             ],
             [
              0.3333333333333333,
              "#9c179e"
             ],
             [
              0.4444444444444444,
              "#bd3786"
             ],
             [
              0.5555555555555556,
              "#d8576b"
             ],
             [
              0.6666666666666666,
              "#ed7953"
             ],
             [
              0.7777777777777778,
              "#fb9f3a"
             ],
             [
              0.8888888888888888,
              "#fdca26"
             ],
             [
              1,
              "#f0f921"
             ]
            ],
            "type": "histogram2dcontour"
           }
          ],
          "mesh3d": [
           {
            "colorbar": {
             "outlinewidth": 0,
             "ticks": ""
            },
            "type": "mesh3d"
           }
          ],
          "parcoords": [
           {
            "line": {
             "colorbar": {
              "outlinewidth": 0,
              "ticks": ""
             }
            },
            "type": "parcoords"
           }
          ],
          "pie": [
           {
            "automargin": true,
            "type": "pie"
           }
          ],
          "scatter": [
           {
            "marker": {
             "colorbar": {
              "outlinewidth": 0,
              "ticks": ""
             }
            },
            "type": "scatter"
           }
          ],
          "scatter3d": [
           {
            "line": {
             "colorbar": {
              "outlinewidth": 0,
              "ticks": ""
             }
            },
            "marker": {
             "colorbar": {
              "outlinewidth": 0,
              "ticks": ""
             }
            },
            "type": "scatter3d"
           }
          ],
          "scattercarpet": [
           {
            "marker": {
             "colorbar": {
              "outlinewidth": 0,
              "ticks": ""
             }
            },
            "type": "scattercarpet"
           }
          ],
          "scattergeo": [
           {
            "marker": {
             "colorbar": {
              "outlinewidth": 0,
              "ticks": ""
             }
            },
            "type": "scattergeo"
           }
          ],
          "scattergl": [
           {
            "marker": {
             "colorbar": {
              "outlinewidth": 0,
              "ticks": ""
             }
            },
            "type": "scattergl"
           }
          ],
          "scattermapbox": [
           {
            "marker": {
             "colorbar": {
              "outlinewidth": 0,
              "ticks": ""
             }
            },
            "type": "scattermapbox"
           }
          ],
          "scatterpolar": [
           {
            "marker": {
             "colorbar": {
              "outlinewidth": 0,
              "ticks": ""
             }
            },
            "type": "scatterpolar"
           }
          ],
          "scatterpolargl": [
           {
            "marker": {
             "colorbar": {
              "outlinewidth": 0,
              "ticks": ""
             }
            },
            "type": "scatterpolargl"
           }
          ],
          "scatterternary": [
           {
            "marker": {
             "colorbar": {
              "outlinewidth": 0,
              "ticks": ""
             }
            },
            "type": "scatterternary"
           }
          ],
          "surface": [
           {
            "colorbar": {
             "outlinewidth": 0,
             "ticks": ""
            },
            "colorscale": [
             [
              0,
              "#0d0887"
             ],
             [
              0.1111111111111111,
              "#46039f"
             ],
             [
              0.2222222222222222,
              "#7201a8"
             ],
             [
              0.3333333333333333,
              "#9c179e"
             ],
             [
              0.4444444444444444,
              "#bd3786"
             ],
             [
              0.5555555555555556,
              "#d8576b"
             ],
             [
              0.6666666666666666,
              "#ed7953"
             ],
             [
              0.7777777777777778,
              "#fb9f3a"
             ],
             [
              0.8888888888888888,
              "#fdca26"
             ],
             [
              1,
              "#f0f921"
             ]
            ],
            "type": "surface"
           }
          ],
          "table": [
           {
            "cells": {
             "fill": {
              "color": "#EBF0F8"
             },
             "line": {
              "color": "white"
             }
            },
            "header": {
             "fill": {
              "color": "#C8D4E3"
             },
             "line": {
              "color": "white"
             }
            },
            "type": "table"
           }
          ]
         },
         "layout": {
          "annotationdefaults": {
           "arrowcolor": "#2a3f5f",
           "arrowhead": 0,
           "arrowwidth": 1
          },
          "coloraxis": {
           "colorbar": {
            "outlinewidth": 0,
            "ticks": ""
           }
          },
          "colorscale": {
           "diverging": [
            [
             0,
             "#8e0152"
            ],
            [
             0.1,
             "#c51b7d"
            ],
            [
             0.2,
             "#de77ae"
            ],
            [
             0.3,
             "#f1b6da"
            ],
            [
             0.4,
             "#fde0ef"
            ],
            [
             0.5,
             "#f7f7f7"
            ],
            [
             0.6,
             "#e6f5d0"
            ],
            [
             0.7,
             "#b8e186"
            ],
            [
             0.8,
             "#7fbc41"
            ],
            [
             0.9,
             "#4d9221"
            ],
            [
             1,
             "#276419"
            ]
           ],
           "sequential": [
            [
             0,
             "#0d0887"
            ],
            [
             0.1111111111111111,
             "#46039f"
            ],
            [
             0.2222222222222222,
             "#7201a8"
            ],
            [
             0.3333333333333333,
             "#9c179e"
            ],
            [
             0.4444444444444444,
             "#bd3786"
            ],
            [
             0.5555555555555556,
             "#d8576b"
            ],
            [
             0.6666666666666666,
             "#ed7953"
            ],
            [
             0.7777777777777778,
             "#fb9f3a"
            ],
            [
             0.8888888888888888,
             "#fdca26"
            ],
            [
             1,
             "#f0f921"
            ]
           ],
           "sequentialminus": [
            [
             0,
             "#0d0887"
            ],
            [
             0.1111111111111111,
             "#46039f"
            ],
            [
             0.2222222222222222,
             "#7201a8"
            ],
            [
             0.3333333333333333,
             "#9c179e"
            ],
            [
             0.4444444444444444,
             "#bd3786"
            ],
            [
             0.5555555555555556,
             "#d8576b"
            ],
            [
             0.6666666666666666,
             "#ed7953"
            ],
            [
             0.7777777777777778,
             "#fb9f3a"
            ],
            [
             0.8888888888888888,
             "#fdca26"
            ],
            [
             1,
             "#f0f921"
            ]
           ]
          },
          "colorway": [
           "#636efa",
           "#EF553B",
           "#00cc96",
           "#ab63fa",
           "#FFA15A",
           "#19d3f3",
           "#FF6692",
           "#B6E880",
           "#FF97FF",
           "#FECB52"
          ],
          "font": {
           "color": "#2a3f5f"
          },
          "geo": {
           "bgcolor": "white",
           "lakecolor": "white",
           "landcolor": "#E5ECF6",
           "showlakes": true,
           "showland": true,
           "subunitcolor": "white"
          },
          "hoverlabel": {
           "align": "left"
          },
          "hovermode": "closest",
          "mapbox": {
           "style": "light"
          },
          "paper_bgcolor": "white",
          "plot_bgcolor": "#E5ECF6",
          "polar": {
           "angularaxis": {
            "gridcolor": "white",
            "linecolor": "white",
            "ticks": ""
           },
           "bgcolor": "#E5ECF6",
           "radialaxis": {
            "gridcolor": "white",
            "linecolor": "white",
            "ticks": ""
           }
          },
          "scene": {
           "xaxis": {
            "backgroundcolor": "#E5ECF6",
            "gridcolor": "white",
            "gridwidth": 2,
            "linecolor": "white",
            "showbackground": true,
            "ticks": "",
            "zerolinecolor": "white"
           },
           "yaxis": {
            "backgroundcolor": "#E5ECF6",
            "gridcolor": "white",
            "gridwidth": 2,
            "linecolor": "white",
            "showbackground": true,
            "ticks": "",
            "zerolinecolor": "white"
           },
           "zaxis": {
            "backgroundcolor": "#E5ECF6",
            "gridcolor": "white",
            "gridwidth": 2,
            "linecolor": "white",
            "showbackground": true,
            "ticks": "",
            "zerolinecolor": "white"
           }
          },
          "shapedefaults": {
           "line": {
            "color": "#2a3f5f"
           }
          },
          "ternary": {
           "aaxis": {
            "gridcolor": "white",
            "linecolor": "white",
            "ticks": ""
           },
           "baxis": {
            "gridcolor": "white",
            "linecolor": "white",
            "ticks": ""
           },
           "bgcolor": "#E5ECF6",
           "caxis": {
            "gridcolor": "white",
            "linecolor": "white",
            "ticks": ""
           }
          },
          "title": {
           "x": 0.05
          },
          "xaxis": {
           "automargin": true,
           "gridcolor": "white",
           "linecolor": "white",
           "ticks": "",
           "title": {
            "standoff": 15
           },
           "zerolinecolor": "white",
           "zerolinewidth": 2
          },
          "yaxis": {
           "automargin": true,
           "gridcolor": "white",
           "linecolor": "white",
           "ticks": "",
           "title": {
            "standoff": 15
           },
           "zerolinecolor": "white",
           "zerolinewidth": 2
          }
         }
        },
        "xaxis": {
         "anchor": "y",
         "domain": [
          0,
          1
         ],
         "title": {
          "text": "x"
         }
        },
        "yaxis": {
         "anchor": "x",
         "domain": [
          0,
          1
         ],
         "title": {
          "text": "y"
         }
        }
       }
      },
      "text/html": [
       "<div>                            <div id=\"fa1d4d85-27a0-4bd9-bc22-f4273cde74d7\" class=\"plotly-graph-div\" style=\"height:525px; width:100%;\"></div>            <script type=\"text/javascript\">                require([\"plotly\"], function(Plotly) {                    window.PLOTLYENV=window.PLOTLYENV || {};                                    if (document.getElementById(\"fa1d4d85-27a0-4bd9-bc22-f4273cde74d7\")) {                    Plotly.newPlot(                        \"fa1d4d85-27a0-4bd9-bc22-f4273cde74d7\",                        [{\"alignmentgroup\": \"True\", \"hovertemplate\": \"x=%{x}<br>y=%{y}<extra></extra>\", \"legendgroup\": \"\", \"marker\": {\"color\": \"#636efa\"}, \"name\": \"\", \"offsetgroup\": \"\", \"orientation\": \"v\", \"showlegend\": false, \"textposition\": \"auto\", \"type\": \"bar\", \"x\": [1, 3, 2, 4, 12, 20, 201, 49, 17, 6, 10, 88, 133, 14, 9, 5, 21, 13, 16, 8, 18, 11, 7, 389, 15, 75, 256, 27, 47, 33, 23, 22, 140, 59, 99, 42, 29, 68, 48, 44, 25, 38, 19, 28, 448, 96, 114, 123, 107, 32, 111, 61, 43, 36, 105, 39, 41, 60, 30, 178, 162, 34, 72, 37, 40, 94, 110, 26, 73, 125, 92, 82, 176, 98, 83, 155, 31, 63, 35, 52, 151, 24, 104, 118, 87, 65, 69, 51, 67, 149, 117, 45, 54, 77, 46, 421, 66, 55, 365, 79, 167, 143, 56, 57, 71, 134, 89, 172, 85, 199, 106, 141, 121, 78, 74, 80, 113, 142, 157, 50, 161, 204, 150, 58, 119, 70, 126, 62, 95, 127, 64, 120, 135, 175, 84, 115, 53, 109, 90, 154, 116, 124, 76, 86], \"xaxis\": \"x\", \"y\": [175391, 13828, 32658, 10589, 866, 188, 1, 12, 286, 4137, 1231, 1, 2, 627, 1805, 5417, 125, 571, 309, 1953, 225, 991, 2691, 1, 412, 6, 1, 79, 14, 31, 124, 117, 1, 7, 1, 16, 61, 6, 15, 20, 187, 16, 181, 78, 1, 2, 2, 1, 2, 36, 1, 5, 26, 29, 3, 20, 16, 6, 40, 1, 2, 33, 4, 33, 19, 3, 2, 95, 3, 2, 2, 3, 1, 3, 2, 1, 47, 9, 28, 11, 1, 94, 3, 1, 2, 5, 4, 13, 2, 1, 1, 13, 9, 3, 12, 1, 4, 9, 1, 2, 1, 2, 6, 13, 4, 1, 2, 1, 2, 1, 1, 1, 1, 3, 2, 2, 3, 1, 1, 7, 1, 1, 2, 7, 1, 3, 1, 4, 2, 1, 3, 1, 1, 1, 2, 1, 11, 1, 1, 1, 1, 1, 2, 1], \"yaxis\": \"y\"}],                        {\"barmode\": \"relative\", \"legend\": {\"tracegroupgap\": 0}, \"margin\": {\"t\": 60}, \"template\": {\"data\": {\"bar\": [{\"error_x\": {\"color\": \"#2a3f5f\"}, \"error_y\": {\"color\": \"#2a3f5f\"}, \"marker\": {\"line\": {\"color\": \"#E5ECF6\", \"width\": 0.5}}, \"type\": \"bar\"}], \"barpolar\": [{\"marker\": {\"line\": {\"color\": \"#E5ECF6\", \"width\": 0.5}}, \"type\": \"barpolar\"}], \"carpet\": [{\"aaxis\": {\"endlinecolor\": \"#2a3f5f\", \"gridcolor\": \"white\", \"linecolor\": \"white\", \"minorgridcolor\": \"white\", \"startlinecolor\": \"#2a3f5f\"}, \"baxis\": {\"endlinecolor\": \"#2a3f5f\", \"gridcolor\": \"white\", \"linecolor\": \"white\", \"minorgridcolor\": \"white\", \"startlinecolor\": \"#2a3f5f\"}, \"type\": \"carpet\"}], \"choropleth\": [{\"colorbar\": {\"outlinewidth\": 0, \"ticks\": \"\"}, \"type\": \"choropleth\"}], \"contour\": [{\"colorbar\": {\"outlinewidth\": 0, \"ticks\": \"\"}, \"colorscale\": [[0.0, \"#0d0887\"], [0.1111111111111111, \"#46039f\"], [0.2222222222222222, \"#7201a8\"], [0.3333333333333333, \"#9c179e\"], [0.4444444444444444, \"#bd3786\"], [0.5555555555555556, \"#d8576b\"], [0.6666666666666666, \"#ed7953\"], [0.7777777777777778, \"#fb9f3a\"], [0.8888888888888888, \"#fdca26\"], [1.0, \"#f0f921\"]], \"type\": \"contour\"}], \"contourcarpet\": [{\"colorbar\": {\"outlinewidth\": 0, \"ticks\": \"\"}, \"type\": \"contourcarpet\"}], \"heatmap\": [{\"colorbar\": {\"outlinewidth\": 0, \"ticks\": \"\"}, \"colorscale\": [[0.0, \"#0d0887\"], [0.1111111111111111, \"#46039f\"], [0.2222222222222222, \"#7201a8\"], [0.3333333333333333, \"#9c179e\"], [0.4444444444444444, \"#bd3786\"], [0.5555555555555556, \"#d8576b\"], [0.6666666666666666, \"#ed7953\"], [0.7777777777777778, \"#fb9f3a\"], [0.8888888888888888, \"#fdca26\"], [1.0, \"#f0f921\"]], \"type\": \"heatmap\"}], \"heatmapgl\": [{\"colorbar\": {\"outlinewidth\": 0, \"ticks\": \"\"}, \"colorscale\": [[0.0, \"#0d0887\"], [0.1111111111111111, \"#46039f\"], [0.2222222222222222, \"#7201a8\"], [0.3333333333333333, \"#9c179e\"], [0.4444444444444444, \"#bd3786\"], [0.5555555555555556, \"#d8576b\"], [0.6666666666666666, \"#ed7953\"], [0.7777777777777778, \"#fb9f3a\"], [0.8888888888888888, \"#fdca26\"], [1.0, \"#f0f921\"]], \"type\": \"heatmapgl\"}], \"histogram\": [{\"marker\": {\"colorbar\": {\"outlinewidth\": 0, \"ticks\": \"\"}}, \"type\": \"histogram\"}], \"histogram2d\": [{\"colorbar\": {\"outlinewidth\": 0, \"ticks\": \"\"}, \"colorscale\": [[0.0, \"#0d0887\"], [0.1111111111111111, \"#46039f\"], [0.2222222222222222, \"#7201a8\"], [0.3333333333333333, \"#9c179e\"], [0.4444444444444444, \"#bd3786\"], [0.5555555555555556, \"#d8576b\"], [0.6666666666666666, \"#ed7953\"], [0.7777777777777778, \"#fb9f3a\"], [0.8888888888888888, \"#fdca26\"], [1.0, \"#f0f921\"]], \"type\": \"histogram2d\"}], \"histogram2dcontour\": [{\"colorbar\": {\"outlinewidth\": 0, \"ticks\": \"\"}, \"colorscale\": [[0.0, \"#0d0887\"], [0.1111111111111111, \"#46039f\"], [0.2222222222222222, \"#7201a8\"], [0.3333333333333333, \"#9c179e\"], [0.4444444444444444, \"#bd3786\"], [0.5555555555555556, \"#d8576b\"], [0.6666666666666666, \"#ed7953\"], [0.7777777777777778, \"#fb9f3a\"], [0.8888888888888888, \"#fdca26\"], [1.0, \"#f0f921\"]], \"type\": \"histogram2dcontour\"}], \"mesh3d\": [{\"colorbar\": {\"outlinewidth\": 0, \"ticks\": \"\"}, \"type\": \"mesh3d\"}], \"parcoords\": [{\"line\": {\"colorbar\": {\"outlinewidth\": 0, \"ticks\": \"\"}}, \"type\": \"parcoords\"}], \"pie\": [{\"automargin\": true, \"type\": \"pie\"}], \"scatter\": [{\"marker\": {\"colorbar\": {\"outlinewidth\": 0, \"ticks\": \"\"}}, \"type\": \"scatter\"}], \"scatter3d\": [{\"line\": {\"colorbar\": {\"outlinewidth\": 0, \"ticks\": \"\"}}, \"marker\": {\"colorbar\": {\"outlinewidth\": 0, \"ticks\": \"\"}}, \"type\": \"scatter3d\"}], \"scattercarpet\": [{\"marker\": {\"colorbar\": {\"outlinewidth\": 0, \"ticks\": \"\"}}, \"type\": \"scattercarpet\"}], \"scattergeo\": [{\"marker\": {\"colorbar\": {\"outlinewidth\": 0, \"ticks\": \"\"}}, \"type\": \"scattergeo\"}], \"scattergl\": [{\"marker\": {\"colorbar\": {\"outlinewidth\": 0, \"ticks\": \"\"}}, \"type\": \"scattergl\"}], \"scattermapbox\": [{\"marker\": {\"colorbar\": {\"outlinewidth\": 0, \"ticks\": \"\"}}, \"type\": \"scattermapbox\"}], \"scatterpolar\": [{\"marker\": {\"colorbar\": {\"outlinewidth\": 0, \"ticks\": \"\"}}, \"type\": \"scatterpolar\"}], \"scatterpolargl\": [{\"marker\": {\"colorbar\": {\"outlinewidth\": 0, \"ticks\": \"\"}}, \"type\": \"scatterpolargl\"}], \"scatterternary\": [{\"marker\": {\"colorbar\": {\"outlinewidth\": 0, \"ticks\": \"\"}}, \"type\": \"scatterternary\"}], \"surface\": [{\"colorbar\": {\"outlinewidth\": 0, \"ticks\": \"\"}, \"colorscale\": [[0.0, \"#0d0887\"], [0.1111111111111111, \"#46039f\"], [0.2222222222222222, \"#7201a8\"], [0.3333333333333333, \"#9c179e\"], [0.4444444444444444, \"#bd3786\"], [0.5555555555555556, \"#d8576b\"], [0.6666666666666666, \"#ed7953\"], [0.7777777777777778, \"#fb9f3a\"], [0.8888888888888888, \"#fdca26\"], [1.0, \"#f0f921\"]], \"type\": \"surface\"}], \"table\": [{\"cells\": {\"fill\": {\"color\": \"#EBF0F8\"}, \"line\": {\"color\": \"white\"}}, \"header\": {\"fill\": {\"color\": \"#C8D4E3\"}, \"line\": {\"color\": \"white\"}}, \"type\": \"table\"}]}, \"layout\": {\"annotationdefaults\": {\"arrowcolor\": \"#2a3f5f\", \"arrowhead\": 0, \"arrowwidth\": 1}, \"coloraxis\": {\"colorbar\": {\"outlinewidth\": 0, \"ticks\": \"\"}}, \"colorscale\": {\"diverging\": [[0, \"#8e0152\"], [0.1, \"#c51b7d\"], [0.2, \"#de77ae\"], [0.3, \"#f1b6da\"], [0.4, \"#fde0ef\"], [0.5, \"#f7f7f7\"], [0.6, \"#e6f5d0\"], [0.7, \"#b8e186\"], [0.8, \"#7fbc41\"], [0.9, \"#4d9221\"], [1, \"#276419\"]], \"sequential\": [[0.0, \"#0d0887\"], [0.1111111111111111, \"#46039f\"], [0.2222222222222222, \"#7201a8\"], [0.3333333333333333, \"#9c179e\"], [0.4444444444444444, \"#bd3786\"], [0.5555555555555556, \"#d8576b\"], [0.6666666666666666, \"#ed7953\"], [0.7777777777777778, \"#fb9f3a\"], [0.8888888888888888, \"#fdca26\"], [1.0, \"#f0f921\"]], \"sequentialminus\": [[0.0, \"#0d0887\"], [0.1111111111111111, \"#46039f\"], [0.2222222222222222, \"#7201a8\"], [0.3333333333333333, \"#9c179e\"], [0.4444444444444444, \"#bd3786\"], [0.5555555555555556, \"#d8576b\"], [0.6666666666666666, \"#ed7953\"], [0.7777777777777778, \"#fb9f3a\"], [0.8888888888888888, \"#fdca26\"], [1.0, \"#f0f921\"]]}, \"colorway\": [\"#636efa\", \"#EF553B\", \"#00cc96\", \"#ab63fa\", \"#FFA15A\", \"#19d3f3\", \"#FF6692\", \"#B6E880\", \"#FF97FF\", \"#FECB52\"], \"font\": {\"color\": \"#2a3f5f\"}, \"geo\": {\"bgcolor\": \"white\", \"lakecolor\": \"white\", \"landcolor\": \"#E5ECF6\", \"showlakes\": true, \"showland\": true, \"subunitcolor\": \"white\"}, \"hoverlabel\": {\"align\": \"left\"}, \"hovermode\": \"closest\", \"mapbox\": {\"style\": \"light\"}, \"paper_bgcolor\": \"white\", \"plot_bgcolor\": \"#E5ECF6\", \"polar\": {\"angularaxis\": {\"gridcolor\": \"white\", \"linecolor\": \"white\", \"ticks\": \"\"}, \"bgcolor\": \"#E5ECF6\", \"radialaxis\": {\"gridcolor\": \"white\", \"linecolor\": \"white\", \"ticks\": \"\"}}, \"scene\": {\"xaxis\": {\"backgroundcolor\": \"#E5ECF6\", \"gridcolor\": \"white\", \"gridwidth\": 2, \"linecolor\": \"white\", \"showbackground\": true, \"ticks\": \"\", \"zerolinecolor\": \"white\"}, \"yaxis\": {\"backgroundcolor\": \"#E5ECF6\", \"gridcolor\": \"white\", \"gridwidth\": 2, \"linecolor\": \"white\", \"showbackground\": true, \"ticks\": \"\", \"zerolinecolor\": \"white\"}, \"zaxis\": {\"backgroundcolor\": \"#E5ECF6\", \"gridcolor\": \"white\", \"gridwidth\": 2, \"linecolor\": \"white\", \"showbackground\": true, \"ticks\": \"\", \"zerolinecolor\": \"white\"}}, \"shapedefaults\": {\"line\": {\"color\": \"#2a3f5f\"}}, \"ternary\": {\"aaxis\": {\"gridcolor\": \"white\", \"linecolor\": \"white\", \"ticks\": \"\"}, \"baxis\": {\"gridcolor\": \"white\", \"linecolor\": \"white\", \"ticks\": \"\"}, \"bgcolor\": \"#E5ECF6\", \"caxis\": {\"gridcolor\": \"white\", \"linecolor\": \"white\", \"ticks\": \"\"}}, \"title\": {\"x\": 0.05}, \"xaxis\": {\"automargin\": true, \"gridcolor\": \"white\", \"linecolor\": \"white\", \"ticks\": \"\", \"title\": {\"standoff\": 15}, \"zerolinecolor\": \"white\", \"zerolinewidth\": 2}, \"yaxis\": {\"automargin\": true, \"gridcolor\": \"white\", \"linecolor\": \"white\", \"ticks\": \"\", \"title\": {\"standoff\": 15}, \"zerolinecolor\": \"white\", \"zerolinewidth\": 2}}}, \"xaxis\": {\"anchor\": \"y\", \"domain\": [0.0, 1.0], \"title\": {\"text\": \"x\"}}, \"yaxis\": {\"anchor\": \"x\", \"domain\": [0.0, 1.0], \"title\": {\"text\": \"y\"}}},                        {\"responsive\": true}                    ).then(function(){\n",
       "                            \n",
       "var gd = document.getElementById('fa1d4d85-27a0-4bd9-bc22-f4273cde74d7');\n",
       "var x = new MutationObserver(function (mutations, observer) {{\n",
       "        var display = window.getComputedStyle(gd).display;\n",
       "        if (!display || display === 'none') {{\n",
       "            console.log([gd, 'removed!']);\n",
       "            Plotly.purge(gd);\n",
       "            observer.disconnect();\n",
       "        }}\n",
       "}});\n",
       "\n",
       "// Listen for the removal of the full notebook cells\n",
       "var notebookContainer = gd.closest('#notebook-container');\n",
       "if (notebookContainer) {{\n",
       "    x.observe(notebookContainer, {childList: true});\n",
       "}}\n",
       "\n",
       "// Listen for the clearing of the current output cell\n",
       "var outputEl = gd.closest('.output');\n",
       "if (outputEl) {{\n",
       "    x.observe(outputEl, {childList: true});\n",
       "}}\n",
       "\n",
       "                        })                };                });            </script>        </div>"
      ]
     },
     "metadata": {},
     "output_type": "display_data"
    },
    {
     "name": "stdout",
     "output_type": "stream",
     "text": [
      "True\n",
      "448\n"
     ]
    }
   ],
   "source": [
    "#make a histogram dictionary of number of reviews by user\n",
    "\n",
    "histogramDict = {}\n",
    "for user in userDict:\n",
    "    userCount = len(userDict[user])\n",
    "    if userCount in histogramDict:\n",
    "        histogramDict[userCount] += 1\n",
    "    else:\n",
    "        histogramDict[userCount] = 1\n",
    "print(histogramDict)\n",
    "fig = px.bar(x = list(histogramDict.keys()), y = list(histogramDict.values()))\n",
    "fig.show()\n",
    "\n",
    "#test that the number of reviews matches the number present in the data file\n",
    "result = 0\n",
    "for entry in histogramDict:\n",
    "    result += entry * histogramDict[entry]\n",
    "print (result == len(df.index))\n",
    "print(max(histogramDict.keys()))"
   ]
  },
  {
   "cell_type": "code",
   "execution_count": 12,
   "metadata": {},
   "outputs": [
    {
     "ename": "NameError",
     "evalue": "name 'datetime' is not defined",
     "output_type": "error",
     "traceback": [
      "\u001b[0;31m---------------------------------------------------------------------------\u001b[0m",
      "\u001b[0;31mNameError\u001b[0m                                 Traceback (most recent call last)",
      "\u001b[0;32m<ipython-input-12-4970ffb5e258>\u001b[0m in \u001b[0;36m<module>\u001b[0;34m\u001b[0m\n\u001b[1;32m      1\u001b[0m \u001b[0;31m#how should we get time? I'm a little confused how the data is formatted. I'm gonna check Kaggle.\u001b[0m\u001b[0;34m\u001b[0m\u001b[0;34m\u001b[0m\u001b[0;34m\u001b[0m\u001b[0m\n\u001b[1;32m      2\u001b[0m \u001b[0mtimestamp\u001b[0m \u001b[0;34m=\u001b[0m \u001b[0;36m1219017600\u001b[0m\u001b[0;34m\u001b[0m\u001b[0;34m\u001b[0m\u001b[0m\n\u001b[0;32m----> 3\u001b[0;31m \u001b[0mdatetime\u001b[0m\u001b[0;34m.\u001b[0m\u001b[0mfromtimestamp\u001b[0m\u001b[0;34m(\u001b[0m\u001b[0mtimestamp\u001b[0m\u001b[0;34m)\u001b[0m\u001b[0;34m.\u001b[0m\u001b[0myear\u001b[0m\u001b[0;34m\u001b[0m\u001b[0;34m\u001b[0m\u001b[0m\n\u001b[0m",
      "\u001b[0;31mNameError\u001b[0m: name 'datetime' is not defined"
     ]
    }
   ],
   "source": [
    "#how should we get time? I'm a little confused how the data is formatted. I'm gonna check Kaggle.\n",
    "timestamp = 1219017600\n",
    "datetime.fromtimestamp(timestamp).year"
   ]
  },
  {
   "cell_type": "code",
   "execution_count": 5,
   "metadata": {},
   "outputs": [
    {
     "ename": "AttributeError",
     "evalue": "'DataFrame' object has no attribute 'date'",
     "output_type": "error",
     "traceback": [
      "\u001b[0;31m---------------------------------------------------------------------------\u001b[0m",
      "\u001b[0;31mAttributeError\u001b[0m                            Traceback (most recent call last)",
      "\u001b[0;32m<ipython-input-5-14b45f1f930f>\u001b[0m in \u001b[0;36m<module>\u001b[0;34m\u001b[0m\n\u001b[1;32m      3\u001b[0m \u001b[0;31m#convert dates\u001b[0m\u001b[0;34m\u001b[0m\u001b[0;34m\u001b[0m\u001b[0;34m\u001b[0m\u001b[0m\n\u001b[1;32m      4\u001b[0m \u001b[0;34m\u001b[0m\u001b[0m\n\u001b[0;32m----> 5\u001b[0;31m \u001b[0mdf\u001b[0m\u001b[0;34m.\u001b[0m\u001b[0mtime\u001b[0m \u001b[0;34m=\u001b[0m \u001b[0mdf\u001b[0m\u001b[0;34m.\u001b[0m\u001b[0mdate\u001b[0m\u001b[0;34m.\u001b[0m\u001b[0mapply\u001b[0m\u001b[0;34m(\u001b[0m\u001b[0;32mlambda\u001b[0m \u001b[0md\u001b[0m\u001b[0;34m:\u001b[0m \u001b[0mdatetime\u001b[0m\u001b[0;34m.\u001b[0m\u001b[0mstrptime\u001b[0m\u001b[0;34m(\u001b[0m\u001b[0md\u001b[0m\u001b[0;34m,\u001b[0m \u001b[0;34m\"%Y-%m-%d\"\u001b[0m\u001b[0;34m)\u001b[0m\u001b[0;34m)\u001b[0m\u001b[0;34m\u001b[0m\u001b[0;34m\u001b[0m\u001b[0m\n\u001b[0m",
      "\u001b[0;32m~/opt/anaconda3/lib/python3.8/site-packages/pandas/core/generic.py\u001b[0m in \u001b[0;36m__getattr__\u001b[0;34m(self, name)\u001b[0m\n\u001b[1;32m   5272\u001b[0m             \u001b[0;32mif\u001b[0m \u001b[0mself\u001b[0m\u001b[0;34m.\u001b[0m\u001b[0m_info_axis\u001b[0m\u001b[0;34m.\u001b[0m\u001b[0m_can_hold_identifiers_and_holds_name\u001b[0m\u001b[0;34m(\u001b[0m\u001b[0mname\u001b[0m\u001b[0;34m)\u001b[0m\u001b[0;34m:\u001b[0m\u001b[0;34m\u001b[0m\u001b[0;34m\u001b[0m\u001b[0m\n\u001b[1;32m   5273\u001b[0m                 \u001b[0;32mreturn\u001b[0m \u001b[0mself\u001b[0m\u001b[0;34m[\u001b[0m\u001b[0mname\u001b[0m\u001b[0;34m]\u001b[0m\u001b[0;34m\u001b[0m\u001b[0;34m\u001b[0m\u001b[0m\n\u001b[0;32m-> 5274\u001b[0;31m             \u001b[0;32mreturn\u001b[0m \u001b[0mobject\u001b[0m\u001b[0;34m.\u001b[0m\u001b[0m__getattribute__\u001b[0m\u001b[0;34m(\u001b[0m\u001b[0mself\u001b[0m\u001b[0;34m,\u001b[0m \u001b[0mname\u001b[0m\u001b[0;34m)\u001b[0m\u001b[0;34m\u001b[0m\u001b[0;34m\u001b[0m\u001b[0m\n\u001b[0m\u001b[1;32m   5275\u001b[0m \u001b[0;34m\u001b[0m\u001b[0m\n\u001b[1;32m   5276\u001b[0m     \u001b[0;32mdef\u001b[0m \u001b[0m__setattr__\u001b[0m\u001b[0;34m(\u001b[0m\u001b[0mself\u001b[0m\u001b[0;34m,\u001b[0m \u001b[0mname\u001b[0m\u001b[0;34m:\u001b[0m \u001b[0mstr\u001b[0m\u001b[0;34m,\u001b[0m \u001b[0mvalue\u001b[0m\u001b[0;34m)\u001b[0m \u001b[0;34m->\u001b[0m \u001b[0;32mNone\u001b[0m\u001b[0;34m:\u001b[0m\u001b[0;34m\u001b[0m\u001b[0;34m\u001b[0m\u001b[0m\n",
      "\u001b[0;31mAttributeError\u001b[0m: 'DataFrame' object has no attribute 'date'"
     ]
    }
   ],
   "source": [
    "import json\n",
    "from datetime import datetime\n",
    "#convert dates \n",
    "\n",
    "df.time = df.date.apply(lambda d: datetime.strptime(d, \"%Y-%m-%d\"))"
   ]
  },
  {
   "cell_type": "code",
   "execution_count": 26,
   "metadata": {},
   "outputs": [
    {
     "name": "stdout",
     "output_type": "stream",
     "text": [
      "[1, 3, 24, 5, 2, 0, 0, 0, 0, 0, 3, 17, 0, 1, 0, 2, 2, 0, 0, 0, 0, 0, 0, 0, 0, 0, 2, 0, 0, 1, 3, 0, 0, 0, 0, 7, 1, 4, 0, 1, 1, 3, 3, 1, 0, 0, 0, 0, 49, 0, 0, 0, 1, 0, 1, 1, 0, 0, 0, 0, 1, 0, 0, 0, 0, 7, 1, 0, 0, 0, 0, 0, 1, 0, 0, 0, 0, 1, 1, 2, 0, 0, 3, 1, 3, 1, 0, 0, 0, 1, 4, 9, 7, 0, 2, 0, 1, 1, 19, 0, 0, 2, 1, 6, 1, 0, 1, 0, 1, 0, 0, 1, 0, 1, 1, 0, 3, 3, 0, 0, 0, 0, 0, 1, 0, 7, 0, 0, 0, 1, 0, 3, 2, 0, 0, 1, 42, 0, 0, 0, 0, 3, 0, 1, 0, 1, 0, 1, 0, 4, 1, 1, 3, 0, 1, 0, 0, 0, 0, 1, 0, 2, 0, 0, 0, 0, 1, 0, 1, 2, 42, 0, 0, 0, 0, 2, 49, 1, 0, 3, 1, 2, 1, 4, 0, 0, 0, 1, 0, 0, 4, 24, 5, 2, 2, 0, 0, 3, 0, 2, 0, 2, 42, 1, 0, 0, 1, 0, 0, 0, 1, 2, 0, 5, 0, 1, 1, 13, 0, 3, 5, 0, 1, 42, 0, 0, 0, 0, 0, 1, 0, 0, 1, 0, 19, 0, 1, 42, 0, 0, 1, 0, 2, 9, 1, 0, 42, 1, 1, 1, 0, 1, 0, 5, 0, 2, 1, 2, 0, 0, 0, 0, 0, 1, 0, 0, 0, 42, 0, 2, 2, 0, 0, 0, 24, 5, 1, 0, 0, 2, 1, 6, 0, 0, 0, 0, 0, 1, 5, 42, 0, 0, 6, 1, 0, 0, 0, 0, 3, 7, 1, 2, 0, 2, 0, 0, 9, 42, 42, 0, 0, 0, 0, 0, 0, 0, 1, 3, 3, 9, 0, 1, 14, 1, 0, 0, 1, 0, 1, 3, 5, 1, 0, 0, 0, 8, 8, 0, 0, 0, 0, 0, 6, 2, 1, 1, 1, 0, 3, 24, 5, 0, 2, 1, 3, 0, 0, 3, 0, 0, 3, 42, 4, 1, 0, 3, 1, 19, 1, 2, 0, 0, 3, 2, 1, 0, 5, 2, 6, 0, 2, 0, 0, 4, 2, 0, 3, 0, 0, 0, 0, 4, 8, 0, 0, 0, 0, 0, 2, 49, 0, 11, 0, 0, 1, 3, 2, 8, 0, 0, 0, 0, 3, 0, 0, 0, 7, 1, 0, 2, 0, 3, 0, 0, 2, 7, 0, 0, 0, 2, 0, 0, 0, 3, 1, 1, 0, 0, 10, 1, 0, 5, 0, 1, 3, 2, 24, 5]\n"
     ]
    },
    {
     "data": {
      "application/vnd.plotly.v1+json": {
       "config": {
        "plotlyServerURL": "https://plot.ly"
       },
       "data": [
        {
         "hoverlabel": {
          "namelength": 0
         },
         "hovertemplate": "x=%{x}<br>y=%{y}",
         "legendgroup": "",
         "marker": {
          "color": "#636efa",
          "symbol": "circle"
         },
         "mode": "markers",
         "name": "",
         "showlegend": false,
         "type": "scatter",
         "x": [
          1282176000,
          1272240000,
          1321401600,
          1321401600,
          1237161600,
          1332633600,
          1332633600,
          1283126400,
          1311897600,
          1282176000,
          1282176000,
          1224201600,
          1285891200,
          1275868800,
          1332979200,
          1283644800,
          1236384000,
          1283212800,
          1339459200,
          1332374400,
          1285545600,
          1280966400,
          1282521600,
          1256860800,
          1325203200,
          1281312000,
          1240876800,
          1269475200,
          1333238400,
          1329609600,
          1336262400,
          1308182400,
          1335571200,
          1332201600,
          1241740800,
          1241740800,
          1236384000,
          1279670400,
          1243209600,
          1329609600,
          1277856000,
          1297382400,
          1236384000,
          1263254400,
          1225152000,
          1332720000,
          1295913600,
          1283212800,
          1266278400,
          1240617600,
          1283126400,
          1338422400,
          1330473600,
          1301184000,
          1346198400,
          1286755200,
          1347321600,
          1343692800,
          1344211200,
          1266278400,
          1342915200,
          1323734400,
          1277942400,
          1350172800,
          1346112000,
          1241740800,
          1329609600,
          1282176000,
          1283212800,
          1246406400,
          1256860800,
          1228521600,
          1243900800,
          1343174400,
          1346112000,
          1335916800,
          1240617600,
          1329609600,
          1236124800,
          1261267200,
          1263340800,
          1263340800,
          1285027200,
          1329609600,
          1243209600,
          1238198400,
          1284249600,
          1256342400,
          1256342400,
          1340496000,
          1280534400,
          1307664000,
          1327708800,
          1337558400,
          1327708800,
          1261180800,
          1280793600,
          1320451200,
          1268438400,
          1333584000,
          1240617600,
          1268179200,
          1329609600,
          1282262400,
          1246838400,
          1246838400,
          1329609600,
          1271289600,
          1346198400,
          1332979200,
          1272412800,
          1276905600,
          1276905600,
          1285459200,
          1282176000,
          1282176000,
          1282176000,
          1259452800,
          1315440000,
          1236384000,
          1256860800,
          1283558400,
          1325376000,
          1292630400,
          1282521600,
          1256342400,
          1271289600,
          1282521600,
          1293321600,
          1240617600,
          1312502400,
          1263772800,
          1265068800,
          1346371200,
          1306713600,
          1266278400,
          1324857600,
          1244160000,
          1244160000,
          1285545600,
          1282176000,
          1282176000,
          1312502400,
          1236384000,
          1270166400,
          1346198400,
          1256601600,
          1282176000,
          1231286400,
          1323388800,
          1240617600,
          1236124800,
          1328140800,
          1283212800,
          1348099200,
          1348099200,
          1283212800,
          1314662400,
          1280793600,
          1346198400,
          1333238400,
          1282262400,
          1282262400,
          1236384000,
          1262476800,
          1283212800,
          1328054400,
          1327968000,
          1329609600,
          1266278400,
          1324857600,
          1350259200,
          1244160000,
          1244160000,
          1301184000,
          1261440000,
          1266278400,
          1325462400,
          1282176000,
          1282176000,
          1271203200,
          1241740800,
          1275868800,
          1296432000,
          1277856000,
          1260662400,
          1343174400,
          1346371200,
          1256342400,
          1256342400,
          1225497600,
          1321401600,
          1321401600,
          1326412800,
          1280188800,
          1285804800,
          1260662400,
          1277251200,
          1317945600,
          1326672000,
          1346371200,
          1265673600,
          1324857600,
          1236384000,
          1281657600,
          1339459200,
          1243296000,
          1240617600,
          1315353600,
          1225152000,
          1311292800,
          1228521600,
          1348185600,
          1241740800,
          1318291200,
          1282176000,
          1236124800,
          1241740800,
          1283126400,
          1326672000,
          1270166400,
          1283212800,
          1284336000,
          1324857600,
          1343174400,
          1346371200,
          1244160000,
          1244160000,
          1333152000,
          1236124800,
          1283212800,
          1328054400,
          1282176000,
          1348876800,
          1268438400,
          1256515200,
          1330473600,
          1324857600,
          1285372800,
          1271289600,
          1329609600,
          1315353600,
          1240876800,
          1297036800,
          1332460800,
          1308182400,
          1324857600,
          1343260800,
          1326153600,
          1326153600,
          1261440000,
          1256515200,
          1277856000,
          1277856000,
          1283731200,
          1282262400,
          1335571200,
          1315180800,
          1282003200,
          1244160000,
          1244160000,
          1282176000,
          1282003200,
          1311811200,
          1282003200,
          1244160000,
          1244160000,
          1324857600,
          1282521600,
          1251244800,
          1251244800,
          1315353600,
          1346025600,
          1284336000,
          1321401600,
          1321401600,
          1236384000,
          1295654400,
          1332633600,
          1241481600,
          1348099200,
          1242518400,
          1244160000,
          1244160000,
          1335225600,
          1332720000,
          1332979200,
          1236124800,
          1241740800,
          1324857600,
          1241740800,
          1282521600,
          1241740800,
          1297814400,
          1246838400,
          1260662400,
          1242086400,
          1307318400,
          1269561600,
          1246838400,
          1329609600,
          1325635200,
          1282521600,
          1241740800,
          1244937600,
          1318291200,
          1284076800,
          1324857600,
          1324857600,
          1281052800,
          1236384000,
          1344297600,
          1348704000,
          1347840000,
          1244160000,
          1244160000,
          1350777600,
          1283731200,
          1283731200,
          1225929600,
          1241740800,
          1236384000,
          1257206400,
          1283731200,
          1338508800,
          1344297600,
          1242086400,
          1315353600,
          1277251200,
          1277424000,
          1313020800,
          1283558400,
          1240617600,
          1244160000,
          1244160000,
          1245542400,
          1246838400,
          1351036800,
          1241740800,
          1276905600,
          1336262400,
          1335830400,
          1292630400,
          1332460800,
          1236124800,
          1332633600,
          1316044800,
          1346371200,
          1276905600,
          1321401600,
          1321401600,
          1277856000,
          1268179200,
          1325376000,
          1243900800,
          1327968000,
          1236384000,
          1277164800,
          1283644800,
          1269734400,
          1250035200,
          1324857600,
          1262476800,
          1285804800,
          1318204800,
          1236384000,
          1326153600,
          1268438400,
          1240617600,
          1278201600,
          1282521600,
          1260835200,
          1259452800,
          1260835200,
          1260835200,
          1315353600,
          1270166400,
          1271721600,
          1267142400,
          1276646400,
          1340496000,
          1236384000,
          1285027200,
          1241740800,
          1243900800,
          1271289600,
          1245542400,
          1342137600,
          1327968000,
          1333238400,
          1335830400,
          1327708800,
          1307923200,
          1338508800,
          1244160000,
          1244160000,
          1242518400,
          1244937600,
          1276905600,
          1266278400,
          1335571200,
          1228521600,
          1315526400,
          1342137600,
          1329609600,
          1263772800,
          1265068800,
          1332374400,
          1244160000,
          1244160000,
          1256601600,
          1335571200,
          1241740800,
          1269475200,
          1240617600,
          1318291200,
          1248912000,
          1236124800,
          1346112000,
          1241740800,
          1236384000,
          1241740800,
          1310342400,
          1236384000,
          1236384000,
          1236384000,
          1327017600,
          1236384000,
          1338336000,
          1279238400,
          1314748800,
          1244160000,
          1244160000,
          1337472000,
          1345420800,
          1347235200,
          1253404800,
          1310515200,
          1282089600,
          1256601600,
          1271289600,
          1260835200,
          1346112000,
          1329609600,
          1279411200,
          1243209600,
          1321401600,
          1321401600
         ],
         "xaxis": "x",
         "y": [
          1,
          3,
          24,
          5,
          2,
          0,
          0,
          0,
          0,
          0,
          3,
          17,
          0,
          1,
          0,
          2,
          2,
          0,
          0,
          0,
          0,
          0,
          0,
          0,
          0,
          0,
          2,
          0,
          0,
          1,
          3,
          0,
          0,
          0,
          0,
          7,
          1,
          4,
          0,
          1,
          1,
          3,
          3,
          1,
          0,
          0,
          0,
          0,
          49,
          0,
          0,
          0,
          1,
          0,
          1,
          1,
          0,
          0,
          0,
          0,
          1,
          0,
          0,
          0,
          0,
          7,
          1,
          0,
          0,
          0,
          0,
          0,
          1,
          0,
          0,
          0,
          0,
          1,
          1,
          2,
          0,
          0,
          3,
          1,
          3,
          1,
          0,
          0,
          0,
          1,
          4,
          9,
          7,
          0,
          2,
          0,
          1,
          1,
          19,
          0,
          0,
          2,
          1,
          6,
          1,
          0,
          1,
          0,
          1,
          0,
          0,
          1,
          0,
          1,
          1,
          0,
          3,
          3,
          0,
          0,
          0,
          0,
          0,
          1,
          0,
          7,
          0,
          0,
          0,
          1,
          0,
          3,
          2,
          0,
          0,
          1,
          42,
          0,
          0,
          0,
          0,
          3,
          0,
          1,
          0,
          1,
          0,
          1,
          0,
          4,
          1,
          1,
          3,
          0,
          1,
          0,
          0,
          0,
          0,
          1,
          0,
          2,
          0,
          0,
          0,
          0,
          1,
          0,
          1,
          2,
          42,
          0,
          0,
          0,
          0,
          2,
          49,
          1,
          0,
          3,
          1,
          2,
          1,
          4,
          0,
          0,
          0,
          1,
          0,
          0,
          4,
          24,
          5,
          2,
          2,
          0,
          0,
          3,
          0,
          2,
          0,
          2,
          42,
          1,
          0,
          0,
          1,
          0,
          0,
          0,
          1,
          2,
          0,
          5,
          0,
          1,
          1,
          13,
          0,
          3,
          5,
          0,
          1,
          42,
          0,
          0,
          0,
          0,
          0,
          1,
          0,
          0,
          1,
          0,
          19,
          0,
          1,
          42,
          0,
          0,
          1,
          0,
          2,
          9,
          1,
          0,
          42,
          1,
          1,
          1,
          0,
          1,
          0,
          5,
          0,
          2,
          1,
          2,
          0,
          0,
          0,
          0,
          0,
          1,
          0,
          0,
          0,
          42,
          0,
          2,
          2,
          0,
          0,
          0,
          24,
          5,
          1,
          0,
          0,
          2,
          1,
          6,
          0,
          0,
          0,
          0,
          0,
          1,
          5,
          42,
          0,
          0,
          6,
          1,
          0,
          0,
          0,
          0,
          3,
          7,
          1,
          2,
          0,
          2,
          0,
          0,
          9,
          42,
          42,
          0,
          0,
          0,
          0,
          0,
          0,
          0,
          1,
          3,
          3,
          9,
          0,
          1,
          14,
          1,
          0,
          0,
          1,
          0,
          1,
          3,
          5,
          1,
          0,
          0,
          0,
          8,
          8,
          0,
          0,
          0,
          0,
          0,
          6,
          2,
          1,
          1,
          1,
          0,
          3,
          24,
          5,
          0,
          2,
          1,
          3,
          0,
          0,
          3,
          0,
          0,
          3,
          42,
          4,
          1,
          0,
          3,
          1,
          19,
          1,
          2,
          0,
          0,
          3,
          2,
          1,
          0,
          5,
          2,
          6,
          0,
          2,
          0,
          0,
          4,
          2,
          0,
          3,
          0,
          0,
          0,
          0,
          4,
          8,
          0,
          0,
          0,
          0,
          0,
          2,
          49,
          0,
          11,
          0,
          0,
          1,
          3,
          2,
          8,
          0,
          0,
          0,
          0,
          3,
          0,
          0,
          0,
          7,
          1,
          0,
          2,
          0,
          3,
          0,
          0,
          2,
          7,
          0,
          0,
          0,
          2,
          0,
          0,
          0,
          3,
          1,
          1,
          0,
          0,
          10,
          1,
          0,
          5,
          0,
          1,
          3,
          2,
          24,
          5
         ],
         "yaxis": "y"
        }
       ],
       "layout": {
        "height": 600,
        "legend": {
         "tracegroupgap": 0
        },
        "margin": {
         "t": 60
        },
        "template": {
         "data": {
          "bar": [
           {
            "error_x": {
             "color": "#2a3f5f"
            },
            "error_y": {
             "color": "#2a3f5f"
            },
            "marker": {
             "line": {
              "color": "#E5ECF6",
              "width": 0.5
             }
            },
            "type": "bar"
           }
          ],
          "barpolar": [
           {
            "marker": {
             "line": {
              "color": "#E5ECF6",
              "width": 0.5
             }
            },
            "type": "barpolar"
           }
          ],
          "carpet": [
           {
            "aaxis": {
             "endlinecolor": "#2a3f5f",
             "gridcolor": "white",
             "linecolor": "white",
             "minorgridcolor": "white",
             "startlinecolor": "#2a3f5f"
            },
            "baxis": {
             "endlinecolor": "#2a3f5f",
             "gridcolor": "white",
             "linecolor": "white",
             "minorgridcolor": "white",
             "startlinecolor": "#2a3f5f"
            },
            "type": "carpet"
           }
          ],
          "choropleth": [
           {
            "colorbar": {
             "outlinewidth": 0,
             "ticks": ""
            },
            "type": "choropleth"
           }
          ],
          "contour": [
           {
            "colorbar": {
             "outlinewidth": 0,
             "ticks": ""
            },
            "colorscale": [
             [
              0,
              "#0d0887"
             ],
             [
              0.1111111111111111,
              "#46039f"
             ],
             [
              0.2222222222222222,
              "#7201a8"
             ],
             [
              0.3333333333333333,
              "#9c179e"
             ],
             [
              0.4444444444444444,
              "#bd3786"
             ],
             [
              0.5555555555555556,
              "#d8576b"
             ],
             [
              0.6666666666666666,
              "#ed7953"
             ],
             [
              0.7777777777777778,
              "#fb9f3a"
             ],
             [
              0.8888888888888888,
              "#fdca26"
             ],
             [
              1,
              "#f0f921"
             ]
            ],
            "type": "contour"
           }
          ],
          "contourcarpet": [
           {
            "colorbar": {
             "outlinewidth": 0,
             "ticks": ""
            },
            "type": "contourcarpet"
           }
          ],
          "heatmap": [
           {
            "colorbar": {
             "outlinewidth": 0,
             "ticks": ""
            },
            "colorscale": [
             [
              0,
              "#0d0887"
             ],
             [
              0.1111111111111111,
              "#46039f"
             ],
             [
              0.2222222222222222,
              "#7201a8"
             ],
             [
              0.3333333333333333,
              "#9c179e"
             ],
             [
              0.4444444444444444,
              "#bd3786"
             ],
             [
              0.5555555555555556,
              "#d8576b"
             ],
             [
              0.6666666666666666,
              "#ed7953"
             ],
             [
              0.7777777777777778,
              "#fb9f3a"
             ],
             [
              0.8888888888888888,
              "#fdca26"
             ],
             [
              1,
              "#f0f921"
             ]
            ],
            "type": "heatmap"
           }
          ],
          "heatmapgl": [
           {
            "colorbar": {
             "outlinewidth": 0,
             "ticks": ""
            },
            "colorscale": [
             [
              0,
              "#0d0887"
             ],
             [
              0.1111111111111111,
              "#46039f"
             ],
             [
              0.2222222222222222,
              "#7201a8"
             ],
             [
              0.3333333333333333,
              "#9c179e"
             ],
             [
              0.4444444444444444,
              "#bd3786"
             ],
             [
              0.5555555555555556,
              "#d8576b"
             ],
             [
              0.6666666666666666,
              "#ed7953"
             ],
             [
              0.7777777777777778,
              "#fb9f3a"
             ],
             [
              0.8888888888888888,
              "#fdca26"
             ],
             [
              1,
              "#f0f921"
             ]
            ],
            "type": "heatmapgl"
           }
          ],
          "histogram": [
           {
            "marker": {
             "colorbar": {
              "outlinewidth": 0,
              "ticks": ""
             }
            },
            "type": "histogram"
           }
          ],
          "histogram2d": [
           {
            "colorbar": {
             "outlinewidth": 0,
             "ticks": ""
            },
            "colorscale": [
             [
              0,
              "#0d0887"
             ],
             [
              0.1111111111111111,
              "#46039f"
             ],
             [
              0.2222222222222222,
              "#7201a8"
             ],
             [
              0.3333333333333333,
              "#9c179e"
             ],
             [
              0.4444444444444444,
              "#bd3786"
             ],
             [
              0.5555555555555556,
              "#d8576b"
             ],
             [
              0.6666666666666666,
              "#ed7953"
             ],
             [
              0.7777777777777778,
              "#fb9f3a"
             ],
             [
              0.8888888888888888,
              "#fdca26"
             ],
             [
              1,
              "#f0f921"
             ]
            ],
            "type": "histogram2d"
           }
          ],
          "histogram2dcontour": [
           {
            "colorbar": {
             "outlinewidth": 0,
             "ticks": ""
            },
            "colorscale": [
             [
              0,
              "#0d0887"
             ],
             [
              0.1111111111111111,
              "#46039f"
             ],
             [
              0.2222222222222222,
              "#7201a8"
             ],
             [
              0.3333333333333333,
              "#9c179e"
             ],
             [
              0.4444444444444444,
              "#bd3786"
             ],
             [
              0.5555555555555556,
              "#d8576b"
             ],
             [
              0.6666666666666666,
              "#ed7953"
             ],
             [
              0.7777777777777778,
              "#fb9f3a"
             ],
             [
              0.8888888888888888,
              "#fdca26"
             ],
             [
              1,
              "#f0f921"
             ]
            ],
            "type": "histogram2dcontour"
           }
          ],
          "mesh3d": [
           {
            "colorbar": {
             "outlinewidth": 0,
             "ticks": ""
            },
            "type": "mesh3d"
           }
          ],
          "parcoords": [
           {
            "line": {
             "colorbar": {
              "outlinewidth": 0,
              "ticks": ""
             }
            },
            "type": "parcoords"
           }
          ],
          "pie": [
           {
            "automargin": true,
            "type": "pie"
           }
          ],
          "scatter": [
           {
            "marker": {
             "colorbar": {
              "outlinewidth": 0,
              "ticks": ""
             }
            },
            "type": "scatter"
           }
          ],
          "scatter3d": [
           {
            "line": {
             "colorbar": {
              "outlinewidth": 0,
              "ticks": ""
             }
            },
            "marker": {
             "colorbar": {
              "outlinewidth": 0,
              "ticks": ""
             }
            },
            "type": "scatter3d"
           }
          ],
          "scattercarpet": [
           {
            "marker": {
             "colorbar": {
              "outlinewidth": 0,
              "ticks": ""
             }
            },
            "type": "scattercarpet"
           }
          ],
          "scattergeo": [
           {
            "marker": {
             "colorbar": {
              "outlinewidth": 0,
              "ticks": ""
             }
            },
            "type": "scattergeo"
           }
          ],
          "scattergl": [
           {
            "marker": {
             "colorbar": {
              "outlinewidth": 0,
              "ticks": ""
             }
            },
            "type": "scattergl"
           }
          ],
          "scattermapbox": [
           {
            "marker": {
             "colorbar": {
              "outlinewidth": 0,
              "ticks": ""
             }
            },
            "type": "scattermapbox"
           }
          ],
          "scatterpolar": [
           {
            "marker": {
             "colorbar": {
              "outlinewidth": 0,
              "ticks": ""
             }
            },
            "type": "scatterpolar"
           }
          ],
          "scatterpolargl": [
           {
            "marker": {
             "colorbar": {
              "outlinewidth": 0,
              "ticks": ""
             }
            },
            "type": "scatterpolargl"
           }
          ],
          "scatterternary": [
           {
            "marker": {
             "colorbar": {
              "outlinewidth": 0,
              "ticks": ""
             }
            },
            "type": "scatterternary"
           }
          ],
          "surface": [
           {
            "colorbar": {
             "outlinewidth": 0,
             "ticks": ""
            },
            "colorscale": [
             [
              0,
              "#0d0887"
             ],
             [
              0.1111111111111111,
              "#46039f"
             ],
             [
              0.2222222222222222,
              "#7201a8"
             ],
             [
              0.3333333333333333,
              "#9c179e"
             ],
             [
              0.4444444444444444,
              "#bd3786"
             ],
             [
              0.5555555555555556,
              "#d8576b"
             ],
             [
              0.6666666666666666,
              "#ed7953"
             ],
             [
              0.7777777777777778,
              "#fb9f3a"
             ],
             [
              0.8888888888888888,
              "#fdca26"
             ],
             [
              1,
              "#f0f921"
             ]
            ],
            "type": "surface"
           }
          ],
          "table": [
           {
            "cells": {
             "fill": {
              "color": "#EBF0F8"
             },
             "line": {
              "color": "white"
             }
            },
            "header": {
             "fill": {
              "color": "#C8D4E3"
             },
             "line": {
              "color": "white"
             }
            },
            "type": "table"
           }
          ]
         },
         "layout": {
          "annotationdefaults": {
           "arrowcolor": "#2a3f5f",
           "arrowhead": 0,
           "arrowwidth": 1
          },
          "coloraxis": {
           "colorbar": {
            "outlinewidth": 0,
            "ticks": ""
           }
          },
          "colorscale": {
           "diverging": [
            [
             0,
             "#8e0152"
            ],
            [
             0.1,
             "#c51b7d"
            ],
            [
             0.2,
             "#de77ae"
            ],
            [
             0.3,
             "#f1b6da"
            ],
            [
             0.4,
             "#fde0ef"
            ],
            [
             0.5,
             "#f7f7f7"
            ],
            [
             0.6,
             "#e6f5d0"
            ],
            [
             0.7,
             "#b8e186"
            ],
            [
             0.8,
             "#7fbc41"
            ],
            [
             0.9,
             "#4d9221"
            ],
            [
             1,
             "#276419"
            ]
           ],
           "sequential": [
            [
             0,
             "#0d0887"
            ],
            [
             0.1111111111111111,
             "#46039f"
            ],
            [
             0.2222222222222222,
             "#7201a8"
            ],
            [
             0.3333333333333333,
             "#9c179e"
            ],
            [
             0.4444444444444444,
             "#bd3786"
            ],
            [
             0.5555555555555556,
             "#d8576b"
            ],
            [
             0.6666666666666666,
             "#ed7953"
            ],
            [
             0.7777777777777778,
             "#fb9f3a"
            ],
            [
             0.8888888888888888,
             "#fdca26"
            ],
            [
             1,
             "#f0f921"
            ]
           ],
           "sequentialminus": [
            [
             0,
             "#0d0887"
            ],
            [
             0.1111111111111111,
             "#46039f"
            ],
            [
             0.2222222222222222,
             "#7201a8"
            ],
            [
             0.3333333333333333,
             "#9c179e"
            ],
            [
             0.4444444444444444,
             "#bd3786"
            ],
            [
             0.5555555555555556,
             "#d8576b"
            ],
            [
             0.6666666666666666,
             "#ed7953"
            ],
            [
             0.7777777777777778,
             "#fb9f3a"
            ],
            [
             0.8888888888888888,
             "#fdca26"
            ],
            [
             1,
             "#f0f921"
            ]
           ]
          },
          "colorway": [
           "#636efa",
           "#EF553B",
           "#00cc96",
           "#ab63fa",
           "#FFA15A",
           "#19d3f3",
           "#FF6692",
           "#B6E880",
           "#FF97FF",
           "#FECB52"
          ],
          "font": {
           "color": "#2a3f5f"
          },
          "geo": {
           "bgcolor": "white",
           "lakecolor": "white",
           "landcolor": "#E5ECF6",
           "showlakes": true,
           "showland": true,
           "subunitcolor": "white"
          },
          "hoverlabel": {
           "align": "left"
          },
          "hovermode": "closest",
          "mapbox": {
           "style": "light"
          },
          "paper_bgcolor": "white",
          "plot_bgcolor": "#E5ECF6",
          "polar": {
           "angularaxis": {
            "gridcolor": "white",
            "linecolor": "white",
            "ticks": ""
           },
           "bgcolor": "#E5ECF6",
           "radialaxis": {
            "gridcolor": "white",
            "linecolor": "white",
            "ticks": ""
           }
          },
          "scene": {
           "xaxis": {
            "backgroundcolor": "#E5ECF6",
            "gridcolor": "white",
            "gridwidth": 2,
            "linecolor": "white",
            "showbackground": true,
            "ticks": "",
            "zerolinecolor": "white"
           },
           "yaxis": {
            "backgroundcolor": "#E5ECF6",
            "gridcolor": "white",
            "gridwidth": 2,
            "linecolor": "white",
            "showbackground": true,
            "ticks": "",
            "zerolinecolor": "white"
           },
           "zaxis": {
            "backgroundcolor": "#E5ECF6",
            "gridcolor": "white",
            "gridwidth": 2,
            "linecolor": "white",
            "showbackground": true,
            "ticks": "",
            "zerolinecolor": "white"
           }
          },
          "shapedefaults": {
           "line": {
            "color": "#2a3f5f"
           }
          },
          "ternary": {
           "aaxis": {
            "gridcolor": "white",
            "linecolor": "white",
            "ticks": ""
           },
           "baxis": {
            "gridcolor": "white",
            "linecolor": "white",
            "ticks": ""
           },
           "bgcolor": "#E5ECF6",
           "caxis": {
            "gridcolor": "white",
            "linecolor": "white",
            "ticks": ""
           }
          },
          "title": {
           "x": 0.05
          },
          "xaxis": {
           "automargin": true,
           "gridcolor": "white",
           "linecolor": "white",
           "ticks": "",
           "title": {
            "standoff": 15
           },
           "zerolinecolor": "white",
           "zerolinewidth": 2
          },
          "yaxis": {
           "automargin": true,
           "gridcolor": "white",
           "linecolor": "white",
           "ticks": "",
           "title": {
            "standoff": 15
           },
           "zerolinecolor": "white",
           "zerolinewidth": 2
          }
         }
        },
        "xaxis": {
         "anchor": "y",
         "domain": [
          0,
          1
         ],
         "title": {
          "text": "x"
         }
        },
        "yaxis": {
         "anchor": "x",
         "domain": [
          0,
          1
         ],
         "title": {
          "text": "y"
         }
        }
       }
      },
      "text/html": [
       "<div>\n",
       "        \n",
       "        \n",
       "            <div id=\"32c1f9ec-1536-478b-b1ab-6a1801e95ecd\" class=\"plotly-graph-div\" style=\"height:600px; width:100%;\"></div>\n",
       "            <script type=\"text/javascript\">\n",
       "                require([\"plotly\"], function(Plotly) {\n",
       "                    window.PLOTLYENV=window.PLOTLYENV || {};\n",
       "                    \n",
       "                if (document.getElementById(\"32c1f9ec-1536-478b-b1ab-6a1801e95ecd\")) {\n",
       "                    Plotly.newPlot(\n",
       "                        '32c1f9ec-1536-478b-b1ab-6a1801e95ecd',\n",
       "                        [{\"hoverlabel\": {\"namelength\": 0}, \"hovertemplate\": \"x=%{x}<br>y=%{y}\", \"legendgroup\": \"\", \"marker\": {\"color\": \"#636efa\", \"symbol\": \"circle\"}, \"mode\": \"markers\", \"name\": \"\", \"showlegend\": false, \"type\": \"scatter\", \"x\": [1282176000, 1272240000, 1321401600, 1321401600, 1237161600, 1332633600, 1332633600, 1283126400, 1311897600, 1282176000, 1282176000, 1224201600, 1285891200, 1275868800, 1332979200, 1283644800, 1236384000, 1283212800, 1339459200, 1332374400, 1285545600, 1280966400, 1282521600, 1256860800, 1325203200, 1281312000, 1240876800, 1269475200, 1333238400, 1329609600, 1336262400, 1308182400, 1335571200, 1332201600, 1241740800, 1241740800, 1236384000, 1279670400, 1243209600, 1329609600, 1277856000, 1297382400, 1236384000, 1263254400, 1225152000, 1332720000, 1295913600, 1283212800, 1266278400, 1240617600, 1283126400, 1338422400, 1330473600, 1301184000, 1346198400, 1286755200, 1347321600, 1343692800, 1344211200, 1266278400, 1342915200, 1323734400, 1277942400, 1350172800, 1346112000, 1241740800, 1329609600, 1282176000, 1283212800, 1246406400, 1256860800, 1228521600, 1243900800, 1343174400, 1346112000, 1335916800, 1240617600, 1329609600, 1236124800, 1261267200, 1263340800, 1263340800, 1285027200, 1329609600, 1243209600, 1238198400, 1284249600, 1256342400, 1256342400, 1340496000, 1280534400, 1307664000, 1327708800, 1337558400, 1327708800, 1261180800, 1280793600, 1320451200, 1268438400, 1333584000, 1240617600, 1268179200, 1329609600, 1282262400, 1246838400, 1246838400, 1329609600, 1271289600, 1346198400, 1332979200, 1272412800, 1276905600, 1276905600, 1285459200, 1282176000, 1282176000, 1282176000, 1259452800, 1315440000, 1236384000, 1256860800, 1283558400, 1325376000, 1292630400, 1282521600, 1256342400, 1271289600, 1282521600, 1293321600, 1240617600, 1312502400, 1263772800, 1265068800, 1346371200, 1306713600, 1266278400, 1324857600, 1244160000, 1244160000, 1285545600, 1282176000, 1282176000, 1312502400, 1236384000, 1270166400, 1346198400, 1256601600, 1282176000, 1231286400, 1323388800, 1240617600, 1236124800, 1328140800, 1283212800, 1348099200, 1348099200, 1283212800, 1314662400, 1280793600, 1346198400, 1333238400, 1282262400, 1282262400, 1236384000, 1262476800, 1283212800, 1328054400, 1327968000, 1329609600, 1266278400, 1324857600, 1350259200, 1244160000, 1244160000, 1301184000, 1261440000, 1266278400, 1325462400, 1282176000, 1282176000, 1271203200, 1241740800, 1275868800, 1296432000, 1277856000, 1260662400, 1343174400, 1346371200, 1256342400, 1256342400, 1225497600, 1321401600, 1321401600, 1326412800, 1280188800, 1285804800, 1260662400, 1277251200, 1317945600, 1326672000, 1346371200, 1265673600, 1324857600, 1236384000, 1281657600, 1339459200, 1243296000, 1240617600, 1315353600, 1225152000, 1311292800, 1228521600, 1348185600, 1241740800, 1318291200, 1282176000, 1236124800, 1241740800, 1283126400, 1326672000, 1270166400, 1283212800, 1284336000, 1324857600, 1343174400, 1346371200, 1244160000, 1244160000, 1333152000, 1236124800, 1283212800, 1328054400, 1282176000, 1348876800, 1268438400, 1256515200, 1330473600, 1324857600, 1285372800, 1271289600, 1329609600, 1315353600, 1240876800, 1297036800, 1332460800, 1308182400, 1324857600, 1343260800, 1326153600, 1326153600, 1261440000, 1256515200, 1277856000, 1277856000, 1283731200, 1282262400, 1335571200, 1315180800, 1282003200, 1244160000, 1244160000, 1282176000, 1282003200, 1311811200, 1282003200, 1244160000, 1244160000, 1324857600, 1282521600, 1251244800, 1251244800, 1315353600, 1346025600, 1284336000, 1321401600, 1321401600, 1236384000, 1295654400, 1332633600, 1241481600, 1348099200, 1242518400, 1244160000, 1244160000, 1335225600, 1332720000, 1332979200, 1236124800, 1241740800, 1324857600, 1241740800, 1282521600, 1241740800, 1297814400, 1246838400, 1260662400, 1242086400, 1307318400, 1269561600, 1246838400, 1329609600, 1325635200, 1282521600, 1241740800, 1244937600, 1318291200, 1284076800, 1324857600, 1324857600, 1281052800, 1236384000, 1344297600, 1348704000, 1347840000, 1244160000, 1244160000, 1350777600, 1283731200, 1283731200, 1225929600, 1241740800, 1236384000, 1257206400, 1283731200, 1338508800, 1344297600, 1242086400, 1315353600, 1277251200, 1277424000, 1313020800, 1283558400, 1240617600, 1244160000, 1244160000, 1245542400, 1246838400, 1351036800, 1241740800, 1276905600, 1336262400, 1335830400, 1292630400, 1332460800, 1236124800, 1332633600, 1316044800, 1346371200, 1276905600, 1321401600, 1321401600, 1277856000, 1268179200, 1325376000, 1243900800, 1327968000, 1236384000, 1277164800, 1283644800, 1269734400, 1250035200, 1324857600, 1262476800, 1285804800, 1318204800, 1236384000, 1326153600, 1268438400, 1240617600, 1278201600, 1282521600, 1260835200, 1259452800, 1260835200, 1260835200, 1315353600, 1270166400, 1271721600, 1267142400, 1276646400, 1340496000, 1236384000, 1285027200, 1241740800, 1243900800, 1271289600, 1245542400, 1342137600, 1327968000, 1333238400, 1335830400, 1327708800, 1307923200, 1338508800, 1244160000, 1244160000, 1242518400, 1244937600, 1276905600, 1266278400, 1335571200, 1228521600, 1315526400, 1342137600, 1329609600, 1263772800, 1265068800, 1332374400, 1244160000, 1244160000, 1256601600, 1335571200, 1241740800, 1269475200, 1240617600, 1318291200, 1248912000, 1236124800, 1346112000, 1241740800, 1236384000, 1241740800, 1310342400, 1236384000, 1236384000, 1236384000, 1327017600, 1236384000, 1338336000, 1279238400, 1314748800, 1244160000, 1244160000, 1337472000, 1345420800, 1347235200, 1253404800, 1310515200, 1282089600, 1256601600, 1271289600, 1260835200, 1346112000, 1329609600, 1279411200, 1243209600, 1321401600, 1321401600], \"xaxis\": \"x\", \"y\": [1, 3, 24, 5, 2, 0, 0, 0, 0, 0, 3, 17, 0, 1, 0, 2, 2, 0, 0, 0, 0, 0, 0, 0, 0, 0, 2, 0, 0, 1, 3, 0, 0, 0, 0, 7, 1, 4, 0, 1, 1, 3, 3, 1, 0, 0, 0, 0, 49, 0, 0, 0, 1, 0, 1, 1, 0, 0, 0, 0, 1, 0, 0, 0, 0, 7, 1, 0, 0, 0, 0, 0, 1, 0, 0, 0, 0, 1, 1, 2, 0, 0, 3, 1, 3, 1, 0, 0, 0, 1, 4, 9, 7, 0, 2, 0, 1, 1, 19, 0, 0, 2, 1, 6, 1, 0, 1, 0, 1, 0, 0, 1, 0, 1, 1, 0, 3, 3, 0, 0, 0, 0, 0, 1, 0, 7, 0, 0, 0, 1, 0, 3, 2, 0, 0, 1, 42, 0, 0, 0, 0, 3, 0, 1, 0, 1, 0, 1, 0, 4, 1, 1, 3, 0, 1, 0, 0, 0, 0, 1, 0, 2, 0, 0, 0, 0, 1, 0, 1, 2, 42, 0, 0, 0, 0, 2, 49, 1, 0, 3, 1, 2, 1, 4, 0, 0, 0, 1, 0, 0, 4, 24, 5, 2, 2, 0, 0, 3, 0, 2, 0, 2, 42, 1, 0, 0, 1, 0, 0, 0, 1, 2, 0, 5, 0, 1, 1, 13, 0, 3, 5, 0, 1, 42, 0, 0, 0, 0, 0, 1, 0, 0, 1, 0, 19, 0, 1, 42, 0, 0, 1, 0, 2, 9, 1, 0, 42, 1, 1, 1, 0, 1, 0, 5, 0, 2, 1, 2, 0, 0, 0, 0, 0, 1, 0, 0, 0, 42, 0, 2, 2, 0, 0, 0, 24, 5, 1, 0, 0, 2, 1, 6, 0, 0, 0, 0, 0, 1, 5, 42, 0, 0, 6, 1, 0, 0, 0, 0, 3, 7, 1, 2, 0, 2, 0, 0, 9, 42, 42, 0, 0, 0, 0, 0, 0, 0, 1, 3, 3, 9, 0, 1, 14, 1, 0, 0, 1, 0, 1, 3, 5, 1, 0, 0, 0, 8, 8, 0, 0, 0, 0, 0, 6, 2, 1, 1, 1, 0, 3, 24, 5, 0, 2, 1, 3, 0, 0, 3, 0, 0, 3, 42, 4, 1, 0, 3, 1, 19, 1, 2, 0, 0, 3, 2, 1, 0, 5, 2, 6, 0, 2, 0, 0, 4, 2, 0, 3, 0, 0, 0, 0, 4, 8, 0, 0, 0, 0, 0, 2, 49, 0, 11, 0, 0, 1, 3, 2, 8, 0, 0, 0, 0, 3, 0, 0, 0, 7, 1, 0, 2, 0, 3, 0, 0, 2, 7, 0, 0, 0, 2, 0, 0, 0, 3, 1, 1, 0, 0, 10, 1, 0, 5, 0, 1, 3, 2, 24, 5], \"yaxis\": \"y\"}],\n",
       "                        {\"height\": 600, \"legend\": {\"tracegroupgap\": 0}, \"margin\": {\"t\": 60}, \"template\": {\"data\": {\"bar\": [{\"error_x\": {\"color\": \"#2a3f5f\"}, \"error_y\": {\"color\": \"#2a3f5f\"}, \"marker\": {\"line\": {\"color\": \"#E5ECF6\", \"width\": 0.5}}, \"type\": \"bar\"}], \"barpolar\": [{\"marker\": {\"line\": {\"color\": \"#E5ECF6\", \"width\": 0.5}}, \"type\": \"barpolar\"}], \"carpet\": [{\"aaxis\": {\"endlinecolor\": \"#2a3f5f\", \"gridcolor\": \"white\", \"linecolor\": \"white\", \"minorgridcolor\": \"white\", \"startlinecolor\": \"#2a3f5f\"}, \"baxis\": {\"endlinecolor\": \"#2a3f5f\", \"gridcolor\": \"white\", \"linecolor\": \"white\", \"minorgridcolor\": \"white\", \"startlinecolor\": \"#2a3f5f\"}, \"type\": \"carpet\"}], \"choropleth\": [{\"colorbar\": {\"outlinewidth\": 0, \"ticks\": \"\"}, \"type\": \"choropleth\"}], \"contour\": [{\"colorbar\": {\"outlinewidth\": 0, \"ticks\": \"\"}, \"colorscale\": [[0.0, \"#0d0887\"], [0.1111111111111111, \"#46039f\"], [0.2222222222222222, \"#7201a8\"], [0.3333333333333333, \"#9c179e\"], [0.4444444444444444, \"#bd3786\"], [0.5555555555555556, \"#d8576b\"], [0.6666666666666666, \"#ed7953\"], [0.7777777777777778, \"#fb9f3a\"], [0.8888888888888888, \"#fdca26\"], [1.0, \"#f0f921\"]], \"type\": \"contour\"}], \"contourcarpet\": [{\"colorbar\": {\"outlinewidth\": 0, \"ticks\": \"\"}, \"type\": \"contourcarpet\"}], \"heatmap\": [{\"colorbar\": {\"outlinewidth\": 0, \"ticks\": \"\"}, \"colorscale\": [[0.0, \"#0d0887\"], [0.1111111111111111, \"#46039f\"], [0.2222222222222222, \"#7201a8\"], [0.3333333333333333, \"#9c179e\"], [0.4444444444444444, \"#bd3786\"], [0.5555555555555556, \"#d8576b\"], [0.6666666666666666, \"#ed7953\"], [0.7777777777777778, \"#fb9f3a\"], [0.8888888888888888, \"#fdca26\"], [1.0, \"#f0f921\"]], \"type\": \"heatmap\"}], \"heatmapgl\": [{\"colorbar\": {\"outlinewidth\": 0, \"ticks\": \"\"}, \"colorscale\": [[0.0, \"#0d0887\"], [0.1111111111111111, \"#46039f\"], [0.2222222222222222, \"#7201a8\"], [0.3333333333333333, \"#9c179e\"], [0.4444444444444444, \"#bd3786\"], [0.5555555555555556, \"#d8576b\"], [0.6666666666666666, \"#ed7953\"], [0.7777777777777778, \"#fb9f3a\"], [0.8888888888888888, \"#fdca26\"], [1.0, \"#f0f921\"]], \"type\": \"heatmapgl\"}], \"histogram\": [{\"marker\": {\"colorbar\": {\"outlinewidth\": 0, \"ticks\": \"\"}}, \"type\": \"histogram\"}], \"histogram2d\": [{\"colorbar\": {\"outlinewidth\": 0, \"ticks\": \"\"}, \"colorscale\": [[0.0, \"#0d0887\"], [0.1111111111111111, \"#46039f\"], [0.2222222222222222, \"#7201a8\"], [0.3333333333333333, \"#9c179e\"], [0.4444444444444444, \"#bd3786\"], [0.5555555555555556, \"#d8576b\"], [0.6666666666666666, \"#ed7953\"], [0.7777777777777778, \"#fb9f3a\"], [0.8888888888888888, \"#fdca26\"], [1.0, \"#f0f921\"]], \"type\": \"histogram2d\"}], \"histogram2dcontour\": [{\"colorbar\": {\"outlinewidth\": 0, \"ticks\": \"\"}, \"colorscale\": [[0.0, \"#0d0887\"], [0.1111111111111111, \"#46039f\"], [0.2222222222222222, \"#7201a8\"], [0.3333333333333333, \"#9c179e\"], [0.4444444444444444, \"#bd3786\"], [0.5555555555555556, \"#d8576b\"], [0.6666666666666666, \"#ed7953\"], [0.7777777777777778, \"#fb9f3a\"], [0.8888888888888888, \"#fdca26\"], [1.0, \"#f0f921\"]], \"type\": \"histogram2dcontour\"}], \"mesh3d\": [{\"colorbar\": {\"outlinewidth\": 0, \"ticks\": \"\"}, \"type\": \"mesh3d\"}], \"parcoords\": [{\"line\": {\"colorbar\": {\"outlinewidth\": 0, \"ticks\": \"\"}}, \"type\": \"parcoords\"}], \"pie\": [{\"automargin\": true, \"type\": \"pie\"}], \"scatter\": [{\"marker\": {\"colorbar\": {\"outlinewidth\": 0, \"ticks\": \"\"}}, \"type\": \"scatter\"}], \"scatter3d\": [{\"line\": {\"colorbar\": {\"outlinewidth\": 0, \"ticks\": \"\"}}, \"marker\": {\"colorbar\": {\"outlinewidth\": 0, \"ticks\": \"\"}}, \"type\": \"scatter3d\"}], \"scattercarpet\": [{\"marker\": {\"colorbar\": {\"outlinewidth\": 0, \"ticks\": \"\"}}, \"type\": \"scattercarpet\"}], \"scattergeo\": [{\"marker\": {\"colorbar\": {\"outlinewidth\": 0, \"ticks\": \"\"}}, \"type\": \"scattergeo\"}], \"scattergl\": [{\"marker\": {\"colorbar\": {\"outlinewidth\": 0, \"ticks\": \"\"}}, \"type\": \"scattergl\"}], \"scattermapbox\": [{\"marker\": {\"colorbar\": {\"outlinewidth\": 0, \"ticks\": \"\"}}, \"type\": \"scattermapbox\"}], \"scatterpolar\": [{\"marker\": {\"colorbar\": {\"outlinewidth\": 0, \"ticks\": \"\"}}, \"type\": \"scatterpolar\"}], \"scatterpolargl\": [{\"marker\": {\"colorbar\": {\"outlinewidth\": 0, \"ticks\": \"\"}}, \"type\": \"scatterpolargl\"}], \"scatterternary\": [{\"marker\": {\"colorbar\": {\"outlinewidth\": 0, \"ticks\": \"\"}}, \"type\": \"scatterternary\"}], \"surface\": [{\"colorbar\": {\"outlinewidth\": 0, \"ticks\": \"\"}, \"colorscale\": [[0.0, \"#0d0887\"], [0.1111111111111111, \"#46039f\"], [0.2222222222222222, \"#7201a8\"], [0.3333333333333333, \"#9c179e\"], [0.4444444444444444, \"#bd3786\"], [0.5555555555555556, \"#d8576b\"], [0.6666666666666666, \"#ed7953\"], [0.7777777777777778, \"#fb9f3a\"], [0.8888888888888888, \"#fdca26\"], [1.0, \"#f0f921\"]], \"type\": \"surface\"}], \"table\": [{\"cells\": {\"fill\": {\"color\": \"#EBF0F8\"}, \"line\": {\"color\": \"white\"}}, \"header\": {\"fill\": {\"color\": \"#C8D4E3\"}, \"line\": {\"color\": \"white\"}}, \"type\": \"table\"}]}, \"layout\": {\"annotationdefaults\": {\"arrowcolor\": \"#2a3f5f\", \"arrowhead\": 0, \"arrowwidth\": 1}, \"coloraxis\": {\"colorbar\": {\"outlinewidth\": 0, \"ticks\": \"\"}}, \"colorscale\": {\"diverging\": [[0, \"#8e0152\"], [0.1, \"#c51b7d\"], [0.2, \"#de77ae\"], [0.3, \"#f1b6da\"], [0.4, \"#fde0ef\"], [0.5, \"#f7f7f7\"], [0.6, \"#e6f5d0\"], [0.7, \"#b8e186\"], [0.8, \"#7fbc41\"], [0.9, \"#4d9221\"], [1, \"#276419\"]], \"sequential\": [[0.0, \"#0d0887\"], [0.1111111111111111, \"#46039f\"], [0.2222222222222222, \"#7201a8\"], [0.3333333333333333, \"#9c179e\"], [0.4444444444444444, \"#bd3786\"], [0.5555555555555556, \"#d8576b\"], [0.6666666666666666, \"#ed7953\"], [0.7777777777777778, \"#fb9f3a\"], [0.8888888888888888, \"#fdca26\"], [1.0, \"#f0f921\"]], \"sequentialminus\": [[0.0, \"#0d0887\"], [0.1111111111111111, \"#46039f\"], [0.2222222222222222, \"#7201a8\"], [0.3333333333333333, \"#9c179e\"], [0.4444444444444444, \"#bd3786\"], [0.5555555555555556, \"#d8576b\"], [0.6666666666666666, \"#ed7953\"], [0.7777777777777778, \"#fb9f3a\"], [0.8888888888888888, \"#fdca26\"], [1.0, \"#f0f921\"]]}, \"colorway\": [\"#636efa\", \"#EF553B\", \"#00cc96\", \"#ab63fa\", \"#FFA15A\", \"#19d3f3\", \"#FF6692\", \"#B6E880\", \"#FF97FF\", \"#FECB52\"], \"font\": {\"color\": \"#2a3f5f\"}, \"geo\": {\"bgcolor\": \"white\", \"lakecolor\": \"white\", \"landcolor\": \"#E5ECF6\", \"showlakes\": true, \"showland\": true, \"subunitcolor\": \"white\"}, \"hoverlabel\": {\"align\": \"left\"}, \"hovermode\": \"closest\", \"mapbox\": {\"style\": \"light\"}, \"paper_bgcolor\": \"white\", \"plot_bgcolor\": \"#E5ECF6\", \"polar\": {\"angularaxis\": {\"gridcolor\": \"white\", \"linecolor\": \"white\", \"ticks\": \"\"}, \"bgcolor\": \"#E5ECF6\", \"radialaxis\": {\"gridcolor\": \"white\", \"linecolor\": \"white\", \"ticks\": \"\"}}, \"scene\": {\"xaxis\": {\"backgroundcolor\": \"#E5ECF6\", \"gridcolor\": \"white\", \"gridwidth\": 2, \"linecolor\": \"white\", \"showbackground\": true, \"ticks\": \"\", \"zerolinecolor\": \"white\"}, \"yaxis\": {\"backgroundcolor\": \"#E5ECF6\", \"gridcolor\": \"white\", \"gridwidth\": 2, \"linecolor\": \"white\", \"showbackground\": true, \"ticks\": \"\", \"zerolinecolor\": \"white\"}, \"zaxis\": {\"backgroundcolor\": \"#E5ECF6\", \"gridcolor\": \"white\", \"gridwidth\": 2, \"linecolor\": \"white\", \"showbackground\": true, \"ticks\": \"\", \"zerolinecolor\": \"white\"}}, \"shapedefaults\": {\"line\": {\"color\": \"#2a3f5f\"}}, \"ternary\": {\"aaxis\": {\"gridcolor\": \"white\", \"linecolor\": \"white\", \"ticks\": \"\"}, \"baxis\": {\"gridcolor\": \"white\", \"linecolor\": \"white\", \"ticks\": \"\"}, \"bgcolor\": \"#E5ECF6\", \"caxis\": {\"gridcolor\": \"white\", \"linecolor\": \"white\", \"ticks\": \"\"}}, \"title\": {\"x\": 0.05}, \"xaxis\": {\"automargin\": true, \"gridcolor\": \"white\", \"linecolor\": \"white\", \"ticks\": \"\", \"title\": {\"standoff\": 15}, \"zerolinecolor\": \"white\", \"zerolinewidth\": 2}, \"yaxis\": {\"automargin\": true, \"gridcolor\": \"white\", \"linecolor\": \"white\", \"ticks\": \"\", \"title\": {\"standoff\": 15}, \"zerolinecolor\": \"white\", \"zerolinewidth\": 2}}}, \"xaxis\": {\"anchor\": \"y\", \"domain\": [0.0, 1.0], \"title\": {\"text\": \"x\"}}, \"yaxis\": {\"anchor\": \"x\", \"domain\": [0.0, 1.0], \"title\": {\"text\": \"y\"}}},\n",
       "                        {\"responsive\": true}\n",
       "                    ).then(function(){\n",
       "                            \n",
       "var gd = document.getElementById('32c1f9ec-1536-478b-b1ab-6a1801e95ecd');\n",
       "var x = new MutationObserver(function (mutations, observer) {{\n",
       "        var display = window.getComputedStyle(gd).display;\n",
       "        if (!display || display === 'none') {{\n",
       "            console.log([gd, 'removed!']);\n",
       "            Plotly.purge(gd);\n",
       "            observer.disconnect();\n",
       "        }}\n",
       "}});\n",
       "\n",
       "// Listen for the removal of the full notebook cells\n",
       "var notebookContainer = gd.closest('#notebook-container');\n",
       "if (notebookContainer) {{\n",
       "    x.observe(notebookContainer, {childList: true});\n",
       "}}\n",
       "\n",
       "// Listen for the clearing of the current output cell\n",
       "var outputEl = gd.closest('.output');\n",
       "if (outputEl) {{\n",
       "    x.observe(outputEl, {childList: true});\n",
       "}}\n",
       "\n",
       "                        })\n",
       "                };\n",
       "                });\n",
       "            </script>\n",
       "        </div>"
      ]
     },
     "metadata": {},
     "output_type": "display_data"
    }
   ],
   "source": [
    "import plotly\n",
    "import plotly.express as px\n",
    "max = 0\n",
    "maxItem = []\n",
    "for item in userDict.values() :\n",
    "    if len(item) > max :\n",
    "        max = len(item)\n",
    "        maxItem = item\n",
    "timestamps = []\n",
    "helpfulness = []\n",
    "for review in maxItem :\n",
    "    timestamps.append(review[\"Time\"])\n",
    "    if review[\"HelpfulnessDenominator\"] == 0:\n",
    "        helpfulness.append(0)\n",
    "    else:\n",
    "        helpfulness.append(review[\"HelpfulnessNumerator\"])#/review[\"HelpfulnessDenominator\"])\n",
    "print(helpfulness)\n",
    "fig = px.scatter(x=timestamps, y=helpfulness)\n",
    "fig.show()"
   ]
  },
  {
   "cell_type": "code",
   "execution_count": 11,
   "metadata": {},
   "outputs": [
    {
     "name": "stdout",
     "output_type": "stream",
     "text": [
      "Index(['Id', 'ProductId', 'UserId', 'ProfileName', 'HelpfulnessNumerator',\n",
      "       'HelpfulnessDenominator', 'Score', 'Time', 'Summary', 'Text'],\n",
      "      dtype='object')\n",
      "<pandas.core.groupby.generic.DataFrameGroupBy object at 0x104d75a30>\n"
     ]
    }
   ],
   "source": [
    "import pandas as pd # import pandas library\n",
    "import time\n",
    "import plotly.express as px\n",
    "\n",
    "df = pd.read_csv('Reviews.csv', low_memory=False)\n",
    "print(df.columns)\n",
    "\n",
    "byUser = df.groupby(\"UserId\")\n"
   ]
  },
  {
   "cell_type": "code",
   "execution_count": null,
   "metadata": {},
   "outputs": [],
   "source": [
    "for user in byUser"
   ]
  }
 ],
 "metadata": {
  "kernelspec": {
   "display_name": "Python 3",
   "language": "python",
   "name": "python3"
  },
  "language_info": {
   "codemirror_mode": {
    "name": "ipython",
    "version": 3
   },
   "file_extension": ".py",
   "mimetype": "text/x-python",
   "name": "python",
   "nbconvert_exporter": "python",
   "pygments_lexer": "ipython3",
   "version": "3.8.3"
  }
 },
 "nbformat": 4,
 "nbformat_minor": 4
}
